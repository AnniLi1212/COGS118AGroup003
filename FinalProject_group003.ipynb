{
  "cells": [
    {
      "cell_type": "markdown",
      "metadata": {
        "id": "TkNT5Ulz2vs5"
      },
      "source": [
        "# COGS 118A - Final Project"
      ]
    },
    {
      "cell_type": "markdown",
      "metadata": {
        "id": "NTCtJfv_2vs7"
      },
      "source": [
        "# Classing Stars by Using Their Unique Features\n",
        "\n",
        "# Names\n",
        "\n",
        "The Elite Fantasy Team.\n",
        "\n",
        "- Boning Yang (BY)\n",
        "- Chenhao Zhu (CZ)\n",
        "- Jason Chen (JC)\n",
        "- Muchan Li (ML)\n",
        "- Anni Li (AL)"
      ]
    },
    {
      "cell_type": "markdown",
      "metadata": {
        "id": "ir11QI892vs8"
      },
      "source": [
        "# Abstract \n",
        "We see thousands of stars hanging up high each night but rarely do we come to wonder about their commonalities and differences. For our project, we decide to train a model to classify each star Morgan-Keenan spectral class by using their unique features. We especially pay attention to the brightness, color, and magnitude of the stars since they are the decisive distinctions. After cleaning the data, we will build two separate models with our dataset–SVC and K Nearest Neighbor algorithm, while paying attention to the accuracy, precision, and recall. We expect to achieve a high classification accuracy ( score above 90) so that we can confidently rely on our model to make convenient yet precise predictions when a new star is observed."
      ]
    },
    {
      "cell_type": "markdown",
      "metadata": {
        "id": "A18nvqo62vs9"
      },
      "source": [
        "# Background\n",
        "\n",
        "Since astronomy is a brand new field of wonder to every one of our team, we did a great deal of crash course and factual research in order to better position ourselves to answer the question we came up with.\n",
        "\n",
        "First off, what is the Morgan-Keenan spectral classification system? In short, it is a systematic way introduced by William Wilson Morgan and Philip C. Keenan in 1943 that assigns spectral classification to stars based on their effective temperature. The scale, in descending order, is as follows:\n",
        "- O, >= 30,000 Kelvin,\n",
        "- B, between 10,000 and 30,000 Kelvin\n",
        "- A, between 7,500 and 10,000 Kelvin\n",
        "- F, between 6,000 and 7,500 Kelvin\n",
        "- G, between 5,200 and 6,000 Kelvin\n",
        "- K, between 3,700 and 5,200 Kevlin\n",
        "- M, between 2,400 and 3,700 Kelvin\n",
        "\n",
        "We even found an interesting trick to recite this hierarchy, that is \"**O**h **B**e **A** **F**ine **G**irl (**G**uy), **K**iss **M**e\". More factual information about spectral types and the MK system can be found here<a name=\"MK\"></a>[<sup>[1]</sup>](#MK)\n",
        "\n",
        "Now, some may wonder that since it seems there is a rather obvious connection between stellar temperature and its MK spectral class, why not just scrape the temperature data and match them up? The one apparent objection we've found in regard to this is that the \"temperature\" measurement isn't something that can just be taken for granted (notice that our dataset doesn't have the temperature feature either)--it requires tremendous amount of pre-assumptions, observations, and calculations, and in the end the result one astrophysicist would arrive at may not even be accurate<a name=\"stellartemp\"></a>[<sup>[2]</sup>](#stellartemp). In a more scholarly article<a name=\"infrared\"></a>[<sup>[3]</sup>](#infrared), the authors proposed a revised Infrared Flux method to determine stellar effective temperature with reduced numerical working and further insight into the method. They revisited the assumption that the effective temperature $T_e$ is related to integrated stellar flux and monochromatic stellar flux; combining these two relations, they derived a equation that gives the ratio of integrated stellar flux to monochromatic flux, which also includes the $T_e$ term and can be solved for. However, as they later concluded in the \"Sensitivity and Accuracy of Method\" section, the accuracy of the Infrared Flux method is limited by the accuracy with which the ratio can be measured, which in turn depends on the accuracy of the absolute flux measurements across spectral regions. In a more recent research paper<a name=\"gaia\"></a>[<sup>[4]</sup>](#gaia), in fact, 40 years after the first reference article was published, we are presented with yet another advancement in precise derivation of stellar effective temperature. Nonetheless, the Gaia EDR3 photometry method is still bounded by other measurements and factors like the $K_s$ band, Gaia color, stellar blending, etc. All these prove that \"temperature\" is not a measurement as straightforward as it may seem when it comes to astronomy.\n",
        "\n",
        "Hence, we believe if we are able to use machine learning techniques to \"brute-forcedly\" and reliably classify a star, it would make this classification process more interpretable to astronomy newbies like us and the save the experts a great deal of work all at once when deriving the stellar temperature is not absolutely necessary."
      ]
    },
    {
      "cell_type": "markdown",
      "metadata": {
        "id": "ZLyPRclR2vs9"
      },
      "source": [
        "# Problem Statement\n",
        "\n",
        "In this project, we propose to predict the Morgan-Keenan spectral class of a given/newly-observed star using the minimum number of features from a pool of features such as luminosity, absolute visual magnitude, right ascension/declination, etc. while maintaining above 90% accuracy. This problem can be approached by practical machine learning methods such as decision tree, KNN, etc. The result can be evaluated by the accuracy comparing the predicted category and the real category in our training & testing dataset. With correct method and model, this solution should be replicable"
      ]
    },
    {
      "cell_type": "markdown",
      "metadata": {
        "id": "zR5eTBFw2vs9"
      },
      "source": [
        "# Data\n",
        "\n",
        "### Dataset name:\n",
        "\n",
        "- hygdata_v3.csv\n",
        "\n",
        "### Github link:\n",
        "\n",
        "- https://github.com/astronexus/HYG-Database\n",
        "\n",
        "### Size of the dataset:\n",
        "\n",
        "- This dataset has 36 variables and 119613 observations. The actual shape of this dataset is 119,614 rows × 37 columns\n",
        "\n",
        "### What an observation consists of:\n",
        "\n",
        "- Each observation contains the location (where the star is located and how far it is) and some critical characteristics of each star, including its brightness, energy, color, etc. There are a total of 36 variables in each observation (some of the variables might not be available) We will use some of the critical variables below to classify star types.\n",
        "\n",
        "### Some critical variables in the dataset:\n",
        "\n",
        "- Spect: The star's spectral type. There are seven main types of stars: OBAFGKM, where O corresponds to the hottest, most powerful stars (and usually the largest) and M corresponds to the coolest, least powerful stars (and usually the smallest). The spectral type of the star will be the labels in our supervised machine learning model.\n",
        "- Distance: The star's distance in parsecs. Distance is one of the traits that we need to consider in our model because the farther away the star is from, the dimmer the star will be. We will need to use distance to more accurately measure the luminosity and the brightness of the stars.\n",
        "- Mag: The star's apparent visual magnitude. We will use the star’s apparent magnitude to determine how bright the star actually is if we observe it from the earth.\n",
        "- AbsMag: The star's absolute visual magnitude, which will be the start’s visual magnitude if we observe 10 parsecs away from the star.  This identity is crucial because it tells us how bright the star “actually” is. If a star’s absolute visual magnitude is high, it is very likely that the star has a large size and high energy.\n",
        "- Ci: The start’s B-V color index. This index will indicate the star’s color, which will be an efficient way to indicate the star’s temperature and energy. It is defined as the difference between the blue magnitude and the star’s visual magnitude. The larger the B-V color index, the higher temperature the star will be at (and also, the star will appear bluer)\n",
        "- Lum: The star's luminosity. This variable is defined by the total electromagnetic power emitted by the star in a given time, and it is shown as a multiple of the solar luminosity (where the sun’s luminosity will be defined as 1). The higher the luminosity the star is, the more energy it will release in a given time period. In other words, the higher the luminosity, the more powerful the star is.\n",
        "\n",
        "### Any special handling, transformations, cleaning, etc will be needed:\n",
        "\n",
        "- This dataset contains some variables that we will not be used in classification so we will clean the data to make sure we only have the data we need. Also, the star’s spectral type contains a subtype for each class. For example, in class F, we might have F5 or F0V, etc. We will also clean the data so that we only use the general type to classify star type in order to reduce model complexity."
      ]
    },
    {
      "cell_type": "code",
      "execution_count": 2,
      "metadata": {
        "colab": {
          "base_uri": "https://localhost:8080/",
          "height": 233
        },
        "id": "XxRuIsaV2vs-",
        "outputId": "730d0b09-b99b-4120-91a6-c197adb10024"
      },
      "outputs": [
        {
          "data": {
            "text/html": [
              "\n",
              "  <div id=\"df-bce66af5-c0de-45f8-9ac4-5d154b3021e6\">\n",
              "    <div class=\"colab-df-container\">\n",
              "      <div>\n",
              "<style scoped>\n",
              "    .dataframe tbody tr th:only-of-type {\n",
              "        vertical-align: middle;\n",
              "    }\n",
              "\n",
              "    .dataframe tbody tr th {\n",
              "        vertical-align: top;\n",
              "    }\n",
              "\n",
              "    .dataframe thead th {\n",
              "        text-align: right;\n",
              "    }\n",
              "</style>\n",
              "<table border=\"1\" class=\"dataframe\">\n",
              "  <thead>\n",
              "    <tr style=\"text-align: right;\">\n",
              "      <th></th>\n",
              "      <th>id</th>\n",
              "      <th>hip</th>\n",
              "      <th>hd</th>\n",
              "      <th>hr</th>\n",
              "      <th>gl</th>\n",
              "      <th>bf</th>\n",
              "      <th>proper</th>\n",
              "      <th>ra</th>\n",
              "      <th>dec</th>\n",
              "      <th>dist</th>\n",
              "      <th>...</th>\n",
              "      <th>bayer</th>\n",
              "      <th>flam</th>\n",
              "      <th>con</th>\n",
              "      <th>comp</th>\n",
              "      <th>comp_primary</th>\n",
              "      <th>base</th>\n",
              "      <th>lum</th>\n",
              "      <th>var</th>\n",
              "      <th>var_min</th>\n",
              "      <th>var_max</th>\n",
              "    </tr>\n",
              "  </thead>\n",
              "  <tbody>\n",
              "    <tr>\n",
              "      <th>0</th>\n",
              "      <td>0</td>\n",
              "      <td>NaN</td>\n",
              "      <td>NaN</td>\n",
              "      <td>NaN</td>\n",
              "      <td>NaN</td>\n",
              "      <td>NaN</td>\n",
              "      <td>Sol</td>\n",
              "      <td>0.000000</td>\n",
              "      <td>0.000000</td>\n",
              "      <td>0.0000</td>\n",
              "      <td>...</td>\n",
              "      <td>NaN</td>\n",
              "      <td>NaN</td>\n",
              "      <td>NaN</td>\n",
              "      <td>1</td>\n",
              "      <td>0</td>\n",
              "      <td>NaN</td>\n",
              "      <td>1.000000</td>\n",
              "      <td>NaN</td>\n",
              "      <td>NaN</td>\n",
              "      <td>NaN</td>\n",
              "    </tr>\n",
              "    <tr>\n",
              "      <th>1</th>\n",
              "      <td>1</td>\n",
              "      <td>1.0</td>\n",
              "      <td>224700.0</td>\n",
              "      <td>NaN</td>\n",
              "      <td>NaN</td>\n",
              "      <td>NaN</td>\n",
              "      <td>NaN</td>\n",
              "      <td>0.000060</td>\n",
              "      <td>1.089009</td>\n",
              "      <td>219.7802</td>\n",
              "      <td>...</td>\n",
              "      <td>NaN</td>\n",
              "      <td>NaN</td>\n",
              "      <td>Psc</td>\n",
              "      <td>1</td>\n",
              "      <td>1</td>\n",
              "      <td>NaN</td>\n",
              "      <td>9.638290</td>\n",
              "      <td>NaN</td>\n",
              "      <td>NaN</td>\n",
              "      <td>NaN</td>\n",
              "    </tr>\n",
              "    <tr>\n",
              "      <th>2</th>\n",
              "      <td>2</td>\n",
              "      <td>2.0</td>\n",
              "      <td>224690.0</td>\n",
              "      <td>NaN</td>\n",
              "      <td>NaN</td>\n",
              "      <td>NaN</td>\n",
              "      <td>NaN</td>\n",
              "      <td>0.000283</td>\n",
              "      <td>-19.498840</td>\n",
              "      <td>47.9616</td>\n",
              "      <td>...</td>\n",
              "      <td>NaN</td>\n",
              "      <td>NaN</td>\n",
              "      <td>Cet</td>\n",
              "      <td>1</td>\n",
              "      <td>2</td>\n",
              "      <td>NaN</td>\n",
              "      <td>0.392283</td>\n",
              "      <td>NaN</td>\n",
              "      <td>NaN</td>\n",
              "      <td>NaN</td>\n",
              "    </tr>\n",
              "    <tr>\n",
              "      <th>3</th>\n",
              "      <td>3</td>\n",
              "      <td>3.0</td>\n",
              "      <td>224699.0</td>\n",
              "      <td>NaN</td>\n",
              "      <td>NaN</td>\n",
              "      <td>NaN</td>\n",
              "      <td>NaN</td>\n",
              "      <td>0.000335</td>\n",
              "      <td>38.859279</td>\n",
              "      <td>442.4779</td>\n",
              "      <td>...</td>\n",
              "      <td>NaN</td>\n",
              "      <td>NaN</td>\n",
              "      <td>And</td>\n",
              "      <td>1</td>\n",
              "      <td>3</td>\n",
              "      <td>NaN</td>\n",
              "      <td>386.901132</td>\n",
              "      <td>NaN</td>\n",
              "      <td>NaN</td>\n",
              "      <td>NaN</td>\n",
              "    </tr>\n",
              "    <tr>\n",
              "      <th>4</th>\n",
              "      <td>4</td>\n",
              "      <td>4.0</td>\n",
              "      <td>224707.0</td>\n",
              "      <td>NaN</td>\n",
              "      <td>NaN</td>\n",
              "      <td>NaN</td>\n",
              "      <td>NaN</td>\n",
              "      <td>0.000569</td>\n",
              "      <td>-51.893546</td>\n",
              "      <td>134.2282</td>\n",
              "      <td>...</td>\n",
              "      <td>NaN</td>\n",
              "      <td>NaN</td>\n",
              "      <td>Phe</td>\n",
              "      <td>1</td>\n",
              "      <td>4</td>\n",
              "      <td>NaN</td>\n",
              "      <td>9.366989</td>\n",
              "      <td>NaN</td>\n",
              "      <td>NaN</td>\n",
              "      <td>NaN</td>\n",
              "    </tr>\n",
              "  </tbody>\n",
              "</table>\n",
              "<p>5 rows × 37 columns</p>\n",
              "</div>\n",
              "      <button class=\"colab-df-convert\" onclick=\"convertToInteractive('df-bce66af5-c0de-45f8-9ac4-5d154b3021e6')\"\n",
              "              title=\"Convert this dataframe to an interactive table.\"\n",
              "              style=\"display:none;\">\n",
              "        \n",
              "  <svg xmlns=\"http://www.w3.org/2000/svg\" height=\"24px\"viewBox=\"0 0 24 24\"\n",
              "       width=\"24px\">\n",
              "    <path d=\"M0 0h24v24H0V0z\" fill=\"none\"/>\n",
              "    <path d=\"M18.56 5.44l.94 2.06.94-2.06 2.06-.94-2.06-.94-.94-2.06-.94 2.06-2.06.94zm-11 1L8.5 8.5l.94-2.06 2.06-.94-2.06-.94L8.5 2.5l-.94 2.06-2.06.94zm10 10l.94 2.06.94-2.06 2.06-.94-2.06-.94-.94-2.06-.94 2.06-2.06.94z\"/><path d=\"M17.41 7.96l-1.37-1.37c-.4-.4-.92-.59-1.43-.59-.52 0-1.04.2-1.43.59L10.3 9.45l-7.72 7.72c-.78.78-.78 2.05 0 2.83L4 21.41c.39.39.9.59 1.41.59.51 0 1.02-.2 1.41-.59l7.78-7.78 2.81-2.81c.8-.78.8-2.07 0-2.86zM5.41 20L4 18.59l7.72-7.72 1.47 1.35L5.41 20z\"/>\n",
              "  </svg>\n",
              "      </button>\n",
              "      \n",
              "  <style>\n",
              "    .colab-df-container {\n",
              "      display:flex;\n",
              "      flex-wrap:wrap;\n",
              "      gap: 12px;\n",
              "    }\n",
              "\n",
              "    .colab-df-convert {\n",
              "      background-color: #E8F0FE;\n",
              "      border: none;\n",
              "      border-radius: 50%;\n",
              "      cursor: pointer;\n",
              "      display: none;\n",
              "      fill: #1967D2;\n",
              "      height: 32px;\n",
              "      padding: 0 0 0 0;\n",
              "      width: 32px;\n",
              "    }\n",
              "\n",
              "    .colab-df-convert:hover {\n",
              "      background-color: #E2EBFA;\n",
              "      box-shadow: 0px 1px 2px rgba(60, 64, 67, 0.3), 0px 1px 3px 1px rgba(60, 64, 67, 0.15);\n",
              "      fill: #174EA6;\n",
              "    }\n",
              "\n",
              "    [theme=dark] .colab-df-convert {\n",
              "      background-color: #3B4455;\n",
              "      fill: #D2E3FC;\n",
              "    }\n",
              "\n",
              "    [theme=dark] .colab-df-convert:hover {\n",
              "      background-color: #434B5C;\n",
              "      box-shadow: 0px 1px 3px 1px rgba(0, 0, 0, 0.15);\n",
              "      filter: drop-shadow(0px 1px 2px rgba(0, 0, 0, 0.3));\n",
              "      fill: #FFFFFF;\n",
              "    }\n",
              "  </style>\n",
              "\n",
              "      <script>\n",
              "        const buttonEl =\n",
              "          document.querySelector('#df-bce66af5-c0de-45f8-9ac4-5d154b3021e6 button.colab-df-convert');\n",
              "        buttonEl.style.display =\n",
              "          google.colab.kernel.accessAllowed ? 'block' : 'none';\n",
              "\n",
              "        async function convertToInteractive(key) {\n",
              "          const element = document.querySelector('#df-bce66af5-c0de-45f8-9ac4-5d154b3021e6');\n",
              "          const dataTable =\n",
              "            await google.colab.kernel.invokeFunction('convertToInteractive',\n",
              "                                                     [key], {});\n",
              "          if (!dataTable) return;\n",
              "\n",
              "          const docLinkHtml = 'Like what you see? Visit the ' +\n",
              "            '<a target=\"_blank\" href=https://colab.research.google.com/notebooks/data_table.ipynb>data table notebook</a>'\n",
              "            + ' to learn more about interactive tables.';\n",
              "          element.innerHTML = '';\n",
              "          dataTable['output_type'] = 'display_data';\n",
              "          await google.colab.output.renderOutput(dataTable, element);\n",
              "          const docLink = document.createElement('div');\n",
              "          docLink.innerHTML = docLinkHtml;\n",
              "          element.appendChild(docLink);\n",
              "        }\n",
              "      </script>\n",
              "    </div>\n",
              "  </div>\n",
              "  "
            ],
            "text/plain": [
              "   id  hip        hd  hr   gl   bf proper        ra        dec      dist  ...  \\\n",
              "0   0  NaN       NaN NaN  NaN  NaN    Sol  0.000000   0.000000    0.0000  ...   \n",
              "1   1  1.0  224700.0 NaN  NaN  NaN    NaN  0.000060   1.089009  219.7802  ...   \n",
              "2   2  2.0  224690.0 NaN  NaN  NaN    NaN  0.000283 -19.498840   47.9616  ...   \n",
              "3   3  3.0  224699.0 NaN  NaN  NaN    NaN  0.000335  38.859279  442.4779  ...   \n",
              "4   4  4.0  224707.0 NaN  NaN  NaN    NaN  0.000569 -51.893546  134.2282  ...   \n",
              "\n",
              "   bayer  flam  con  comp  comp_primary base         lum  var  var_min  \\\n",
              "0    NaN   NaN  NaN     1             0  NaN    1.000000  NaN      NaN   \n",
              "1    NaN   NaN  Psc     1             1  NaN    9.638290  NaN      NaN   \n",
              "2    NaN   NaN  Cet     1             2  NaN    0.392283  NaN      NaN   \n",
              "3    NaN   NaN  And     1             3  NaN  386.901132  NaN      NaN   \n",
              "4    NaN   NaN  Phe     1             4  NaN    9.366989  NaN      NaN   \n",
              "\n",
              "   var_max  \n",
              "0      NaN  \n",
              "1      NaN  \n",
              "2      NaN  \n",
              "3      NaN  \n",
              "4      NaN  \n",
              "\n",
              "[5 rows x 37 columns]"
            ]
          },
          "execution_count": 2,
          "metadata": {},
          "output_type": "execute_result"
        }
      ],
      "source": [
        "# Here's the dataset:\n",
        "import pandas as pd\n",
        "\n",
        "HYG = pd.read_csv('hygdata_v3.csv')\n",
        "HYG.head()"
      ]
    },
    {
      "cell_type": "markdown",
      "metadata": {
        "id": "5O_ieviX2vs-"
      },
      "source": [
        "# Proposed Solution\n",
        "\n"
      ]
    },
    {
      "cell_type": "code",
      "execution_count": 3,
      "metadata": {
        "id": "vfXLyBLg2vs_"
      },
      "outputs": [],
      "source": [
        "# Here are the packages we will use\n",
        "import numpy as np\n",
        "import pandas as pd\n",
        "import scipy\n",
        "import sklearn\n",
        "import matplotlib.pyplot as plt\n",
        "import seaborn as sns\n",
        "import re\n",
        "import tensorflow as tf"
      ]
    },
    {
      "cell_type": "markdown",
      "metadata": {
        "id": "PBw8QaiF2vs_"
      },
      "source": [
        "- First, we will use pandas packages to import, clean, and modify our dataset\n",
        "- Second, we will use data balancing functions from skleanr.metrics to balance our data\n",
        "- Third, we will use train-test split and KFold functions from skleanrn.model_selection to carry out train-test dataset split and cross validation\n",
        "- Fourth, we will train our decision tree classifier and KNN model with optimal parameters using the sklearn.tree and sklearn.neighbors\n",
        "- Fifth, we will test our model against the test set and obtain test metrics using sklearn.metrics\n",
        "- Sixth, we will use plotting methods from seaborn and matplotlib to visualize our testing metrics and confusion matrices\n",
        "- Seventh, we will repeat the above model training pipeline to prune and optimize for models with simpler features, i.e. less splits, shallower depth, less neighbors.\n",
        "\n",
        "Finally, alongside these 7 general step procedures of model training, we will build a grid search pipeline at each stage of our model (where a stage in our design refers to a model trained using a certain number of parameters) until we arrive at one that is the simplest yet still accurately (above 90% accuracy score) captures the information. It is also important to note that we will not aim for exhaustively trialing out all combinations of features to our model (i.e. listing all combinations of 3 out of 10 features and tuning the best model for each), we instead aim to construct one that is most intuitive and easy to visualize."
      ]
    },
    {
      "cell_type": "markdown",
      "metadata": {
        "id": "yVDRR1w9AbZ2"
      },
      "source": [
        "## Data Cleaning"
      ]
    },
    {
      "cell_type": "code",
      "execution_count": 4,
      "metadata": {
        "colab": {
          "base_uri": "https://localhost:8080/",
          "height": 559
        },
        "id": "rFlBlMyLAdkq",
        "outputId": "3390088e-cfc7-41b7-f689-7a768659cd79"
      },
      "outputs": [
        {
          "data": {
            "text/html": [
              "\n",
              "  <div id=\"df-57909947-6169-487c-adf4-5589debdc212\">\n",
              "    <div class=\"colab-df-container\">\n",
              "      <div>\n",
              "<style scoped>\n",
              "    .dataframe tbody tr th:only-of-type {\n",
              "        vertical-align: middle;\n",
              "    }\n",
              "\n",
              "    .dataframe tbody tr th {\n",
              "        vertical-align: top;\n",
              "    }\n",
              "\n",
              "    .dataframe thead th {\n",
              "        text-align: right;\n",
              "    }\n",
              "</style>\n",
              "<table border=\"1\" class=\"dataframe\">\n",
              "  <thead>\n",
              "    <tr style=\"text-align: right;\">\n",
              "      <th></th>\n",
              "      <th>dist</th>\n",
              "      <th>rv</th>\n",
              "      <th>mag</th>\n",
              "      <th>absmag</th>\n",
              "      <th>spect</th>\n",
              "      <th>ci</th>\n",
              "      <th>x</th>\n",
              "      <th>y</th>\n",
              "      <th>z</th>\n",
              "      <th>vx</th>\n",
              "      <th>vy</th>\n",
              "      <th>vz</th>\n",
              "      <th>rarad</th>\n",
              "      <th>decrad</th>\n",
              "      <th>pmrarad</th>\n",
              "      <th>pmdecrad</th>\n",
              "      <th>lum</th>\n",
              "    </tr>\n",
              "  </thead>\n",
              "  <tbody>\n",
              "    <tr>\n",
              "      <th>0</th>\n",
              "      <td>0.0000</td>\n",
              "      <td>0.0</td>\n",
              "      <td>-26.70</td>\n",
              "      <td>4.850</td>\n",
              "      <td>G2V</td>\n",
              "      <td>0.656</td>\n",
              "      <td>0.000005</td>\n",
              "      <td>0.000000</td>\n",
              "      <td>0.000000</td>\n",
              "      <td>0.000000e+00</td>\n",
              "      <td>0.000000</td>\n",
              "      <td>0.000000e+00</td>\n",
              "      <td>0.000000</td>\n",
              "      <td>0.000000</td>\n",
              "      <td>0.000000e+00</td>\n",
              "      <td>0.000000e+00</td>\n",
              "      <td>1.000000</td>\n",
              "    </tr>\n",
              "    <tr>\n",
              "      <th>1</th>\n",
              "      <td>219.7802</td>\n",
              "      <td>0.0</td>\n",
              "      <td>9.10</td>\n",
              "      <td>2.390</td>\n",
              "      <td>F5</td>\n",
              "      <td>0.482</td>\n",
              "      <td>219.740502</td>\n",
              "      <td>0.003449</td>\n",
              "      <td>4.177065</td>\n",
              "      <td>4.000000e-08</td>\n",
              "      <td>-0.000006</td>\n",
              "      <td>-2.000000e-06</td>\n",
              "      <td>0.000016</td>\n",
              "      <td>0.019007</td>\n",
              "      <td>-2.521031e-08</td>\n",
              "      <td>-9.114497e-09</td>\n",
              "      <td>9.638290</td>\n",
              "    </tr>\n",
              "    <tr>\n",
              "      <th>2</th>\n",
              "      <td>47.9616</td>\n",
              "      <td>0.0</td>\n",
              "      <td>9.27</td>\n",
              "      <td>5.866</td>\n",
              "      <td>K3V</td>\n",
              "      <td>0.999</td>\n",
              "      <td>45.210918</td>\n",
              "      <td>0.003365</td>\n",
              "      <td>-16.008996</td>\n",
              "      <td>-7.000000e-08</td>\n",
              "      <td>0.000042</td>\n",
              "      <td>-2.000000e-07</td>\n",
              "      <td>0.000074</td>\n",
              "      <td>-0.340319</td>\n",
              "      <td>8.785309e-07</td>\n",
              "      <td>-4.508767e-09</td>\n",
              "      <td>0.392283</td>\n",
              "    </tr>\n",
              "    <tr>\n",
              "      <th>3</th>\n",
              "      <td>442.4779</td>\n",
              "      <td>0.0</td>\n",
              "      <td>6.61</td>\n",
              "      <td>-1.619</td>\n",
              "      <td>B9</td>\n",
              "      <td>-0.019</td>\n",
              "      <td>344.552785</td>\n",
              "      <td>0.030213</td>\n",
              "      <td>277.614965</td>\n",
              "      <td>3.920000e-06</td>\n",
              "      <td>0.000011</td>\n",
              "      <td>-4.860000e-06</td>\n",
              "      <td>0.000088</td>\n",
              "      <td>0.678222</td>\n",
              "      <td>2.540424e-08</td>\n",
              "      <td>-1.410808e-08</td>\n",
              "      <td>386.901132</td>\n",
              "    </tr>\n",
              "    <tr>\n",
              "      <th>4</th>\n",
              "      <td>134.2282</td>\n",
              "      <td>0.0</td>\n",
              "      <td>8.06</td>\n",
              "      <td>2.421</td>\n",
              "      <td>F0V</td>\n",
              "      <td>0.370</td>\n",
              "      <td>82.835513</td>\n",
              "      <td>0.012476</td>\n",
              "      <td>-105.619540</td>\n",
              "      <td>8.000000e-08</td>\n",
              "      <td>0.000041</td>\n",
              "      <td>6.000000e-08</td>\n",
              "      <td>0.000149</td>\n",
              "      <td>-0.905713</td>\n",
              "      <td>3.047054e-07</td>\n",
              "      <td>7.757010e-10</td>\n",
              "      <td>9.366989</td>\n",
              "    </tr>\n",
              "    <tr>\n",
              "      <th>5</th>\n",
              "      <td>257.7320</td>\n",
              "      <td>0.0</td>\n",
              "      <td>8.55</td>\n",
              "      <td>1.494</td>\n",
              "      <td>G8III</td>\n",
              "      <td>0.902</td>\n",
              "      <td>195.714261</td>\n",
              "      <td>0.034068</td>\n",
              "      <td>-167.695291</td>\n",
              "      <td>7.370000e-06</td>\n",
              "      <td>0.000003</td>\n",
              "      <td>8.610000e-06</td>\n",
              "      <td>0.000174</td>\n",
              "      <td>-0.708450</td>\n",
              "      <td>1.226579e-08</td>\n",
              "      <td>4.397260e-08</td>\n",
              "      <td>21.998851</td>\n",
              "    </tr>\n",
              "    <tr>\n",
              "      <th>6</th>\n",
              "      <td>55.0358</td>\n",
              "      <td>0.0</td>\n",
              "      <td>12.31</td>\n",
              "      <td>8.607</td>\n",
              "      <td>M0V:</td>\n",
              "      <td>1.336</td>\n",
              "      <td>54.905296</td>\n",
              "      <td>0.017912</td>\n",
              "      <td>3.787796</td>\n",
              "      <td>2.200000e-07</td>\n",
              "      <td>0.000060</td>\n",
              "      <td>-3.420000e-06</td>\n",
              "      <td>0.000326</td>\n",
              "      <td>0.068879</td>\n",
              "      <td>1.097085e-06</td>\n",
              "      <td>-6.225008e-08</td>\n",
              "      <td>0.031420</td>\n",
              "    </tr>\n",
              "    <tr>\n",
              "      <th>7</th>\n",
              "      <td>57.8704</td>\n",
              "      <td>0.0</td>\n",
              "      <td>9.64</td>\n",
              "      <td>5.828</td>\n",
              "      <td>G0</td>\n",
              "      <td>0.740</td>\n",
              "      <td>54.367897</td>\n",
              "      <td>0.020886</td>\n",
              "      <td>19.827115</td>\n",
              "      <td>1.932000e-05</td>\n",
              "      <td>-0.000058</td>\n",
              "      <td>-5.292000e-05</td>\n",
              "      <td>0.000385</td>\n",
              "      <td>0.349696</td>\n",
              "      <td>-1.008994e-06</td>\n",
              "      <td>-9.734574e-07</td>\n",
              "      <td>0.406256</td>\n",
              "    </tr>\n",
              "    <tr>\n",
              "      <th>8</th>\n",
              "      <td>200.8032</td>\n",
              "      <td>-31.0</td>\n",
              "      <td>9.05</td>\n",
              "      <td>2.536</td>\n",
              "      <td>M6e-M8.5e Tc</td>\n",
              "      <td>1.102</td>\n",
              "      <td>180.654532</td>\n",
              "      <td>0.086213</td>\n",
              "      <td>87.668389</td>\n",
              "      <td>-2.613000e-05</td>\n",
              "      <td>0.000019</td>\n",
              "      <td>-1.880000e-05</td>\n",
              "      <td>0.000477</td>\n",
              "      <td>0.451804</td>\n",
              "      <td>9.255093e-08</td>\n",
              "      <td>-2.744045e-08</td>\n",
              "      <td>8.425584</td>\n",
              "    </tr>\n",
              "    <tr>\n",
              "      <th>9</th>\n",
              "      <td>420.1681</td>\n",
              "      <td>0.0</td>\n",
              "      <td>8.59</td>\n",
              "      <td>0.473</td>\n",
              "      <td>G5</td>\n",
              "      <td>1.067</td>\n",
              "      <td>337.379614</td>\n",
              "      <td>0.207994</td>\n",
              "      <td>250.431996</td>\n",
              "      <td>-1.021000e-05</td>\n",
              "      <td>-0.000013</td>\n",
              "      <td>1.377000e-05</td>\n",
              "      <td>0.000617</td>\n",
              "      <td>0.638545</td>\n",
              "      <td>-3.054326e-08</td>\n",
              "      <td>4.082131e-08</td>\n",
              "      <td>56.337815</td>\n",
              "    </tr>\n",
              "  </tbody>\n",
              "</table>\n",
              "</div>\n",
              "      <button class=\"colab-df-convert\" onclick=\"convertToInteractive('df-57909947-6169-487c-adf4-5589debdc212')\"\n",
              "              title=\"Convert this dataframe to an interactive table.\"\n",
              "              style=\"display:none;\">\n",
              "        \n",
              "  <svg xmlns=\"http://www.w3.org/2000/svg\" height=\"24px\"viewBox=\"0 0 24 24\"\n",
              "       width=\"24px\">\n",
              "    <path d=\"M0 0h24v24H0V0z\" fill=\"none\"/>\n",
              "    <path d=\"M18.56 5.44l.94 2.06.94-2.06 2.06-.94-2.06-.94-.94-2.06-.94 2.06-2.06.94zm-11 1L8.5 8.5l.94-2.06 2.06-.94-2.06-.94L8.5 2.5l-.94 2.06-2.06.94zm10 10l.94 2.06.94-2.06 2.06-.94-2.06-.94-.94-2.06-.94 2.06-2.06.94z\"/><path d=\"M17.41 7.96l-1.37-1.37c-.4-.4-.92-.59-1.43-.59-.52 0-1.04.2-1.43.59L10.3 9.45l-7.72 7.72c-.78.78-.78 2.05 0 2.83L4 21.41c.39.39.9.59 1.41.59.51 0 1.02-.2 1.41-.59l7.78-7.78 2.81-2.81c.8-.78.8-2.07 0-2.86zM5.41 20L4 18.59l7.72-7.72 1.47 1.35L5.41 20z\"/>\n",
              "  </svg>\n",
              "      </button>\n",
              "      \n",
              "  <style>\n",
              "    .colab-df-container {\n",
              "      display:flex;\n",
              "      flex-wrap:wrap;\n",
              "      gap: 12px;\n",
              "    }\n",
              "\n",
              "    .colab-df-convert {\n",
              "      background-color: #E8F0FE;\n",
              "      border: none;\n",
              "      border-radius: 50%;\n",
              "      cursor: pointer;\n",
              "      display: none;\n",
              "      fill: #1967D2;\n",
              "      height: 32px;\n",
              "      padding: 0 0 0 0;\n",
              "      width: 32px;\n",
              "    }\n",
              "\n",
              "    .colab-df-convert:hover {\n",
              "      background-color: #E2EBFA;\n",
              "      box-shadow: 0px 1px 2px rgba(60, 64, 67, 0.3), 0px 1px 3px 1px rgba(60, 64, 67, 0.15);\n",
              "      fill: #174EA6;\n",
              "    }\n",
              "\n",
              "    [theme=dark] .colab-df-convert {\n",
              "      background-color: #3B4455;\n",
              "      fill: #D2E3FC;\n",
              "    }\n",
              "\n",
              "    [theme=dark] .colab-df-convert:hover {\n",
              "      background-color: #434B5C;\n",
              "      box-shadow: 0px 1px 3px 1px rgba(0, 0, 0, 0.15);\n",
              "      filter: drop-shadow(0px 1px 2px rgba(0, 0, 0, 0.3));\n",
              "      fill: #FFFFFF;\n",
              "    }\n",
              "  </style>\n",
              "\n",
              "      <script>\n",
              "        const buttonEl =\n",
              "          document.querySelector('#df-57909947-6169-487c-adf4-5589debdc212 button.colab-df-convert');\n",
              "        buttonEl.style.display =\n",
              "          google.colab.kernel.accessAllowed ? 'block' : 'none';\n",
              "\n",
              "        async function convertToInteractive(key) {\n",
              "          const element = document.querySelector('#df-57909947-6169-487c-adf4-5589debdc212');\n",
              "          const dataTable =\n",
              "            await google.colab.kernel.invokeFunction('convertToInteractive',\n",
              "                                                     [key], {});\n",
              "          if (!dataTable) return;\n",
              "\n",
              "          const docLinkHtml = 'Like what you see? Visit the ' +\n",
              "            '<a target=\"_blank\" href=https://colab.research.google.com/notebooks/data_table.ipynb>data table notebook</a>'\n",
              "            + ' to learn more about interactive tables.';\n",
              "          element.innerHTML = '';\n",
              "          dataTable['output_type'] = 'display_data';\n",
              "          await google.colab.output.renderOutput(dataTable, element);\n",
              "          const docLink = document.createElement('div');\n",
              "          docLink.innerHTML = docLinkHtml;\n",
              "          element.appendChild(docLink);\n",
              "        }\n",
              "      </script>\n",
              "    </div>\n",
              "  </div>\n",
              "  "
            ],
            "text/plain": [
              "       dist    rv    mag  absmag         spect     ci           x         y  \\\n",
              "0    0.0000   0.0 -26.70   4.850           G2V  0.656    0.000005  0.000000   \n",
              "1  219.7802   0.0   9.10   2.390            F5  0.482  219.740502  0.003449   \n",
              "2   47.9616   0.0   9.27   5.866           K3V  0.999   45.210918  0.003365   \n",
              "3  442.4779   0.0   6.61  -1.619            B9 -0.019  344.552785  0.030213   \n",
              "4  134.2282   0.0   8.06   2.421           F0V  0.370   82.835513  0.012476   \n",
              "5  257.7320   0.0   8.55   1.494         G8III  0.902  195.714261  0.034068   \n",
              "6   55.0358   0.0  12.31   8.607          M0V:  1.336   54.905296  0.017912   \n",
              "7   57.8704   0.0   9.64   5.828            G0  0.740   54.367897  0.020886   \n",
              "8  200.8032 -31.0   9.05   2.536  M6e-M8.5e Tc  1.102  180.654532  0.086213   \n",
              "9  420.1681   0.0   8.59   0.473            G5  1.067  337.379614  0.207994   \n",
              "\n",
              "            z            vx        vy            vz     rarad    decrad  \\\n",
              "0    0.000000  0.000000e+00  0.000000  0.000000e+00  0.000000  0.000000   \n",
              "1    4.177065  4.000000e-08 -0.000006 -2.000000e-06  0.000016  0.019007   \n",
              "2  -16.008996 -7.000000e-08  0.000042 -2.000000e-07  0.000074 -0.340319   \n",
              "3  277.614965  3.920000e-06  0.000011 -4.860000e-06  0.000088  0.678222   \n",
              "4 -105.619540  8.000000e-08  0.000041  6.000000e-08  0.000149 -0.905713   \n",
              "5 -167.695291  7.370000e-06  0.000003  8.610000e-06  0.000174 -0.708450   \n",
              "6    3.787796  2.200000e-07  0.000060 -3.420000e-06  0.000326  0.068879   \n",
              "7   19.827115  1.932000e-05 -0.000058 -5.292000e-05  0.000385  0.349696   \n",
              "8   87.668389 -2.613000e-05  0.000019 -1.880000e-05  0.000477  0.451804   \n",
              "9  250.431996 -1.021000e-05 -0.000013  1.377000e-05  0.000617  0.638545   \n",
              "\n",
              "        pmrarad      pmdecrad         lum  \n",
              "0  0.000000e+00  0.000000e+00    1.000000  \n",
              "1 -2.521031e-08 -9.114497e-09    9.638290  \n",
              "2  8.785309e-07 -4.508767e-09    0.392283  \n",
              "3  2.540424e-08 -1.410808e-08  386.901132  \n",
              "4  3.047054e-07  7.757010e-10    9.366989  \n",
              "5  1.226579e-08  4.397260e-08   21.998851  \n",
              "6  1.097085e-06 -6.225008e-08    0.031420  \n",
              "7 -1.008994e-06 -9.734574e-07    0.406256  \n",
              "8  9.255093e-08 -2.744045e-08    8.425584  \n",
              "9 -3.054326e-08  4.082131e-08   56.337815  "
            ]
          },
          "execution_count": 4,
          "metadata": {},
          "output_type": "execute_result"
        }
      ],
      "source": [
        "HYG = HYG.drop(columns = [\"id\", \"hip\", \"hd\", \"hr\", \"gl\", \"bf\", \"ra\", \"dec\", \"proper\", \"pmra\", \"pmdec\",\n",
        "                          \"bayer\", \"flam\", \"con\", \"comp\", \"comp_primary\", \"base\", \"var\", \"var_min\", \"var_max\"])\n",
        "HYG.head(10)"
      ]
    },
    {
      "cell_type": "code",
      "execution_count": 5,
      "metadata": {
        "colab": {
          "base_uri": "https://localhost:8080/"
        },
        "id": "rKcWAoM_AenV",
        "outputId": "8b598ef3-d990-4e82-911b-6ff33abf5dd9"
      },
      "outputs": [
        {
          "name": "stdout",
          "output_type": "stream",
          "text": [
            "The dataset now contains 119614 observations and 17 features\n"
          ]
        }
      ],
      "source": [
        "print(f'The dataset now contains {HYG.shape[0]} observations and {HYG.shape[1]} features')"
      ]
    },
    {
      "cell_type": "code",
      "execution_count": 6,
      "metadata": {
        "colab": {
          "base_uri": "https://localhost:8080/"
        },
        "id": "vjXxxq4cAh-u",
        "outputId": "4abc115a-61e3-4e05-c35b-aa624afd5ab9"
      },
      "outputs": [
        {
          "name": "stdout",
          "output_type": "stream",
          "text": [
            "<class 'pandas.core.frame.DataFrame'>\n",
            "RangeIndex: 119614 entries, 0 to 119613\n",
            "Data columns (total 17 columns):\n",
            " #   Column    Non-Null Count   Dtype  \n",
            "---  ------    --------------   -----  \n",
            " 0   dist      119614 non-null  float64\n",
            " 1   rv        119614 non-null  float64\n",
            " 2   mag       119614 non-null  float64\n",
            " 3   absmag    119614 non-null  float64\n",
            " 4   spect     116564 non-null  object \n",
            " 5   ci        117732 non-null  float64\n",
            " 6   x         119614 non-null  float64\n",
            " 7   y         119614 non-null  float64\n",
            " 8   z         119614 non-null  float64\n",
            " 9   vx        119614 non-null  float64\n",
            " 10  vy        119614 non-null  float64\n",
            " 11  vz        119614 non-null  float64\n",
            " 12  rarad     119614 non-null  float64\n",
            " 13  decrad    119614 non-null  float64\n",
            " 14  pmrarad   119614 non-null  float64\n",
            " 15  pmdecrad  119614 non-null  float64\n",
            " 16  lum       119614 non-null  float64\n",
            "dtypes: float64(16), object(1)\n",
            "memory usage: 15.5+ MB\n"
          ]
        }
      ],
      "source": [
        "# Overview of missing information\n",
        "HYG.info()"
      ]
    },
    {
      "cell_type": "code",
      "execution_count": 7,
      "metadata": {
        "colab": {
          "base_uri": "https://localhost:8080/",
          "height": 559
        },
        "id": "OLs5Se2_AreE",
        "outputId": "a9b74b1d-cce4-4ead-ea67-49fd8615035a"
      },
      "outputs": [
        {
          "data": {
            "text/html": [
              "\n",
              "  <div id=\"df-a4ec5340-b577-4e10-b63c-6f9d52ff31f0\">\n",
              "    <div class=\"colab-df-container\">\n",
              "      <div>\n",
              "<style scoped>\n",
              "    .dataframe tbody tr th:only-of-type {\n",
              "        vertical-align: middle;\n",
              "    }\n",
              "\n",
              "    .dataframe tbody tr th {\n",
              "        vertical-align: top;\n",
              "    }\n",
              "\n",
              "    .dataframe thead th {\n",
              "        text-align: right;\n",
              "    }\n",
              "</style>\n",
              "<table border=\"1\" class=\"dataframe\">\n",
              "  <thead>\n",
              "    <tr style=\"text-align: right;\">\n",
              "      <th></th>\n",
              "      <th>dist</th>\n",
              "      <th>rv</th>\n",
              "      <th>mag</th>\n",
              "      <th>absmag</th>\n",
              "      <th>spect</th>\n",
              "      <th>ci</th>\n",
              "      <th>x</th>\n",
              "      <th>y</th>\n",
              "      <th>z</th>\n",
              "      <th>vx</th>\n",
              "      <th>vy</th>\n",
              "      <th>vz</th>\n",
              "      <th>rarad</th>\n",
              "      <th>decrad</th>\n",
              "      <th>pmrarad</th>\n",
              "      <th>pmdecrad</th>\n",
              "      <th>lum</th>\n",
              "    </tr>\n",
              "  </thead>\n",
              "  <tbody>\n",
              "    <tr>\n",
              "      <th>0</th>\n",
              "      <td>0.0000</td>\n",
              "      <td>0.0</td>\n",
              "      <td>-26.70</td>\n",
              "      <td>4.850</td>\n",
              "      <td>G2V</td>\n",
              "      <td>0.656</td>\n",
              "      <td>0.000005</td>\n",
              "      <td>0.000000</td>\n",
              "      <td>0.000000</td>\n",
              "      <td>0.000000e+00</td>\n",
              "      <td>0.000000</td>\n",
              "      <td>0.000000e+00</td>\n",
              "      <td>0.000000</td>\n",
              "      <td>0.000000</td>\n",
              "      <td>0.000000e+00</td>\n",
              "      <td>0.000000e+00</td>\n",
              "      <td>1.000000</td>\n",
              "    </tr>\n",
              "    <tr>\n",
              "      <th>1</th>\n",
              "      <td>219.7802</td>\n",
              "      <td>0.0</td>\n",
              "      <td>9.10</td>\n",
              "      <td>2.390</td>\n",
              "      <td>F5</td>\n",
              "      <td>0.482</td>\n",
              "      <td>219.740502</td>\n",
              "      <td>0.003449</td>\n",
              "      <td>4.177065</td>\n",
              "      <td>4.000000e-08</td>\n",
              "      <td>-0.000006</td>\n",
              "      <td>-2.000000e-06</td>\n",
              "      <td>0.000016</td>\n",
              "      <td>0.019007</td>\n",
              "      <td>-2.521031e-08</td>\n",
              "      <td>-9.114497e-09</td>\n",
              "      <td>9.638290</td>\n",
              "    </tr>\n",
              "    <tr>\n",
              "      <th>2</th>\n",
              "      <td>47.9616</td>\n",
              "      <td>0.0</td>\n",
              "      <td>9.27</td>\n",
              "      <td>5.866</td>\n",
              "      <td>K3V</td>\n",
              "      <td>0.999</td>\n",
              "      <td>45.210918</td>\n",
              "      <td>0.003365</td>\n",
              "      <td>-16.008996</td>\n",
              "      <td>-7.000000e-08</td>\n",
              "      <td>0.000042</td>\n",
              "      <td>-2.000000e-07</td>\n",
              "      <td>0.000074</td>\n",
              "      <td>-0.340319</td>\n",
              "      <td>8.785309e-07</td>\n",
              "      <td>-4.508767e-09</td>\n",
              "      <td>0.392283</td>\n",
              "    </tr>\n",
              "    <tr>\n",
              "      <th>3</th>\n",
              "      <td>442.4779</td>\n",
              "      <td>0.0</td>\n",
              "      <td>6.61</td>\n",
              "      <td>-1.619</td>\n",
              "      <td>B9</td>\n",
              "      <td>-0.019</td>\n",
              "      <td>344.552785</td>\n",
              "      <td>0.030213</td>\n",
              "      <td>277.614965</td>\n",
              "      <td>3.920000e-06</td>\n",
              "      <td>0.000011</td>\n",
              "      <td>-4.860000e-06</td>\n",
              "      <td>0.000088</td>\n",
              "      <td>0.678222</td>\n",
              "      <td>2.540424e-08</td>\n",
              "      <td>-1.410808e-08</td>\n",
              "      <td>386.901132</td>\n",
              "    </tr>\n",
              "    <tr>\n",
              "      <th>4</th>\n",
              "      <td>134.2282</td>\n",
              "      <td>0.0</td>\n",
              "      <td>8.06</td>\n",
              "      <td>2.421</td>\n",
              "      <td>F0V</td>\n",
              "      <td>0.370</td>\n",
              "      <td>82.835513</td>\n",
              "      <td>0.012476</td>\n",
              "      <td>-105.619540</td>\n",
              "      <td>8.000000e-08</td>\n",
              "      <td>0.000041</td>\n",
              "      <td>6.000000e-08</td>\n",
              "      <td>0.000149</td>\n",
              "      <td>-0.905713</td>\n",
              "      <td>3.047054e-07</td>\n",
              "      <td>7.757010e-10</td>\n",
              "      <td>9.366989</td>\n",
              "    </tr>\n",
              "    <tr>\n",
              "      <th>5</th>\n",
              "      <td>257.7320</td>\n",
              "      <td>0.0</td>\n",
              "      <td>8.55</td>\n",
              "      <td>1.494</td>\n",
              "      <td>G8III</td>\n",
              "      <td>0.902</td>\n",
              "      <td>195.714261</td>\n",
              "      <td>0.034068</td>\n",
              "      <td>-167.695291</td>\n",
              "      <td>7.370000e-06</td>\n",
              "      <td>0.000003</td>\n",
              "      <td>8.610000e-06</td>\n",
              "      <td>0.000174</td>\n",
              "      <td>-0.708450</td>\n",
              "      <td>1.226579e-08</td>\n",
              "      <td>4.397260e-08</td>\n",
              "      <td>21.998851</td>\n",
              "    </tr>\n",
              "    <tr>\n",
              "      <th>6</th>\n",
              "      <td>55.0358</td>\n",
              "      <td>0.0</td>\n",
              "      <td>12.31</td>\n",
              "      <td>8.607</td>\n",
              "      <td>M0V:</td>\n",
              "      <td>1.336</td>\n",
              "      <td>54.905296</td>\n",
              "      <td>0.017912</td>\n",
              "      <td>3.787796</td>\n",
              "      <td>2.200000e-07</td>\n",
              "      <td>0.000060</td>\n",
              "      <td>-3.420000e-06</td>\n",
              "      <td>0.000326</td>\n",
              "      <td>0.068879</td>\n",
              "      <td>1.097085e-06</td>\n",
              "      <td>-6.225008e-08</td>\n",
              "      <td>0.031420</td>\n",
              "    </tr>\n",
              "    <tr>\n",
              "      <th>7</th>\n",
              "      <td>57.8704</td>\n",
              "      <td>0.0</td>\n",
              "      <td>9.64</td>\n",
              "      <td>5.828</td>\n",
              "      <td>G0</td>\n",
              "      <td>0.740</td>\n",
              "      <td>54.367897</td>\n",
              "      <td>0.020886</td>\n",
              "      <td>19.827115</td>\n",
              "      <td>1.932000e-05</td>\n",
              "      <td>-0.000058</td>\n",
              "      <td>-5.292000e-05</td>\n",
              "      <td>0.000385</td>\n",
              "      <td>0.349696</td>\n",
              "      <td>-1.008994e-06</td>\n",
              "      <td>-9.734574e-07</td>\n",
              "      <td>0.406256</td>\n",
              "    </tr>\n",
              "    <tr>\n",
              "      <th>8</th>\n",
              "      <td>200.8032</td>\n",
              "      <td>-31.0</td>\n",
              "      <td>9.05</td>\n",
              "      <td>2.536</td>\n",
              "      <td>M6e-M8.5e Tc</td>\n",
              "      <td>1.102</td>\n",
              "      <td>180.654532</td>\n",
              "      <td>0.086213</td>\n",
              "      <td>87.668389</td>\n",
              "      <td>-2.613000e-05</td>\n",
              "      <td>0.000019</td>\n",
              "      <td>-1.880000e-05</td>\n",
              "      <td>0.000477</td>\n",
              "      <td>0.451804</td>\n",
              "      <td>9.255093e-08</td>\n",
              "      <td>-2.744045e-08</td>\n",
              "      <td>8.425584</td>\n",
              "    </tr>\n",
              "    <tr>\n",
              "      <th>9</th>\n",
              "      <td>420.1681</td>\n",
              "      <td>0.0</td>\n",
              "      <td>8.59</td>\n",
              "      <td>0.473</td>\n",
              "      <td>G5</td>\n",
              "      <td>1.067</td>\n",
              "      <td>337.379614</td>\n",
              "      <td>0.207994</td>\n",
              "      <td>250.431996</td>\n",
              "      <td>-1.021000e-05</td>\n",
              "      <td>-0.000013</td>\n",
              "      <td>1.377000e-05</td>\n",
              "      <td>0.000617</td>\n",
              "      <td>0.638545</td>\n",
              "      <td>-3.054326e-08</td>\n",
              "      <td>4.082131e-08</td>\n",
              "      <td>56.337815</td>\n",
              "    </tr>\n",
              "  </tbody>\n",
              "</table>\n",
              "</div>\n",
              "      <button class=\"colab-df-convert\" onclick=\"convertToInteractive('df-a4ec5340-b577-4e10-b63c-6f9d52ff31f0')\"\n",
              "              title=\"Convert this dataframe to an interactive table.\"\n",
              "              style=\"display:none;\">\n",
              "        \n",
              "  <svg xmlns=\"http://www.w3.org/2000/svg\" height=\"24px\"viewBox=\"0 0 24 24\"\n",
              "       width=\"24px\">\n",
              "    <path d=\"M0 0h24v24H0V0z\" fill=\"none\"/>\n",
              "    <path d=\"M18.56 5.44l.94 2.06.94-2.06 2.06-.94-2.06-.94-.94-2.06-.94 2.06-2.06.94zm-11 1L8.5 8.5l.94-2.06 2.06-.94-2.06-.94L8.5 2.5l-.94 2.06-2.06.94zm10 10l.94 2.06.94-2.06 2.06-.94-2.06-.94-.94-2.06-.94 2.06-2.06.94z\"/><path d=\"M17.41 7.96l-1.37-1.37c-.4-.4-.92-.59-1.43-.59-.52 0-1.04.2-1.43.59L10.3 9.45l-7.72 7.72c-.78.78-.78 2.05 0 2.83L4 21.41c.39.39.9.59 1.41.59.51 0 1.02-.2 1.41-.59l7.78-7.78 2.81-2.81c.8-.78.8-2.07 0-2.86zM5.41 20L4 18.59l7.72-7.72 1.47 1.35L5.41 20z\"/>\n",
              "  </svg>\n",
              "      </button>\n",
              "      \n",
              "  <style>\n",
              "    .colab-df-container {\n",
              "      display:flex;\n",
              "      flex-wrap:wrap;\n",
              "      gap: 12px;\n",
              "    }\n",
              "\n",
              "    .colab-df-convert {\n",
              "      background-color: #E8F0FE;\n",
              "      border: none;\n",
              "      border-radius: 50%;\n",
              "      cursor: pointer;\n",
              "      display: none;\n",
              "      fill: #1967D2;\n",
              "      height: 32px;\n",
              "      padding: 0 0 0 0;\n",
              "      width: 32px;\n",
              "    }\n",
              "\n",
              "    .colab-df-convert:hover {\n",
              "      background-color: #E2EBFA;\n",
              "      box-shadow: 0px 1px 2px rgba(60, 64, 67, 0.3), 0px 1px 3px 1px rgba(60, 64, 67, 0.15);\n",
              "      fill: #174EA6;\n",
              "    }\n",
              "\n",
              "    [theme=dark] .colab-df-convert {\n",
              "      background-color: #3B4455;\n",
              "      fill: #D2E3FC;\n",
              "    }\n",
              "\n",
              "    [theme=dark] .colab-df-convert:hover {\n",
              "      background-color: #434B5C;\n",
              "      box-shadow: 0px 1px 3px 1px rgba(0, 0, 0, 0.15);\n",
              "      filter: drop-shadow(0px 1px 2px rgba(0, 0, 0, 0.3));\n",
              "      fill: #FFFFFF;\n",
              "    }\n",
              "  </style>\n",
              "\n",
              "      <script>\n",
              "        const buttonEl =\n",
              "          document.querySelector('#df-a4ec5340-b577-4e10-b63c-6f9d52ff31f0 button.colab-df-convert');\n",
              "        buttonEl.style.display =\n",
              "          google.colab.kernel.accessAllowed ? 'block' : 'none';\n",
              "\n",
              "        async function convertToInteractive(key) {\n",
              "          const element = document.querySelector('#df-a4ec5340-b577-4e10-b63c-6f9d52ff31f0');\n",
              "          const dataTable =\n",
              "            await google.colab.kernel.invokeFunction('convertToInteractive',\n",
              "                                                     [key], {});\n",
              "          if (!dataTable) return;\n",
              "\n",
              "          const docLinkHtml = 'Like what you see? Visit the ' +\n",
              "            '<a target=\"_blank\" href=https://colab.research.google.com/notebooks/data_table.ipynb>data table notebook</a>'\n",
              "            + ' to learn more about interactive tables.';\n",
              "          element.innerHTML = '';\n",
              "          dataTable['output_type'] = 'display_data';\n",
              "          await google.colab.output.renderOutput(dataTable, element);\n",
              "          const docLink = document.createElement('div');\n",
              "          docLink.innerHTML = docLinkHtml;\n",
              "          element.appendChild(docLink);\n",
              "        }\n",
              "      </script>\n",
              "    </div>\n",
              "  </div>\n",
              "  "
            ],
            "text/plain": [
              "       dist    rv    mag  absmag         spect     ci           x         y  \\\n",
              "0    0.0000   0.0 -26.70   4.850           G2V  0.656    0.000005  0.000000   \n",
              "1  219.7802   0.0   9.10   2.390            F5  0.482  219.740502  0.003449   \n",
              "2   47.9616   0.0   9.27   5.866           K3V  0.999   45.210918  0.003365   \n",
              "3  442.4779   0.0   6.61  -1.619            B9 -0.019  344.552785  0.030213   \n",
              "4  134.2282   0.0   8.06   2.421           F0V  0.370   82.835513  0.012476   \n",
              "5  257.7320   0.0   8.55   1.494         G8III  0.902  195.714261  0.034068   \n",
              "6   55.0358   0.0  12.31   8.607          M0V:  1.336   54.905296  0.017912   \n",
              "7   57.8704   0.0   9.64   5.828            G0  0.740   54.367897  0.020886   \n",
              "8  200.8032 -31.0   9.05   2.536  M6e-M8.5e Tc  1.102  180.654532  0.086213   \n",
              "9  420.1681   0.0   8.59   0.473            G5  1.067  337.379614  0.207994   \n",
              "\n",
              "            z            vx        vy            vz     rarad    decrad  \\\n",
              "0    0.000000  0.000000e+00  0.000000  0.000000e+00  0.000000  0.000000   \n",
              "1    4.177065  4.000000e-08 -0.000006 -2.000000e-06  0.000016  0.019007   \n",
              "2  -16.008996 -7.000000e-08  0.000042 -2.000000e-07  0.000074 -0.340319   \n",
              "3  277.614965  3.920000e-06  0.000011 -4.860000e-06  0.000088  0.678222   \n",
              "4 -105.619540  8.000000e-08  0.000041  6.000000e-08  0.000149 -0.905713   \n",
              "5 -167.695291  7.370000e-06  0.000003  8.610000e-06  0.000174 -0.708450   \n",
              "6    3.787796  2.200000e-07  0.000060 -3.420000e-06  0.000326  0.068879   \n",
              "7   19.827115  1.932000e-05 -0.000058 -5.292000e-05  0.000385  0.349696   \n",
              "8   87.668389 -2.613000e-05  0.000019 -1.880000e-05  0.000477  0.451804   \n",
              "9  250.431996 -1.021000e-05 -0.000013  1.377000e-05  0.000617  0.638545   \n",
              "\n",
              "        pmrarad      pmdecrad         lum  \n",
              "0  0.000000e+00  0.000000e+00    1.000000  \n",
              "1 -2.521031e-08 -9.114497e-09    9.638290  \n",
              "2  8.785309e-07 -4.508767e-09    0.392283  \n",
              "3  2.540424e-08 -1.410808e-08  386.901132  \n",
              "4  3.047054e-07  7.757010e-10    9.366989  \n",
              "5  1.226579e-08  4.397260e-08   21.998851  \n",
              "6  1.097085e-06 -6.225008e-08    0.031420  \n",
              "7 -1.008994e-06 -9.734574e-07    0.406256  \n",
              "8  9.255093e-08 -2.744045e-08    8.425584  \n",
              "9 -3.054326e-08  4.082131e-08   56.337815  "
            ]
          },
          "execution_count": 7,
          "metadata": {},
          "output_type": "execute_result"
        }
      ],
      "source": [
        "missing_spec_index = HYG[HYG['spect'].isnull()].index\n",
        "HYG = HYG.drop(labels = missing_spec_index)\n",
        "HYG.head(10)"
      ]
    },
    {
      "cell_type": "code",
      "execution_count": 8,
      "metadata": {
        "colab": {
          "base_uri": "https://localhost:8080/"
        },
        "id": "Fx4fJBzNAtga",
        "outputId": "ace3d177-004a-4c2d-c785-d95d6fe4dc2e"
      },
      "outputs": [
        {
          "name": "stdout",
          "output_type": "stream",
          "text": [
            "The dataset now has 116564 observations after stars with missing spectral type are dropped\n"
          ]
        }
      ],
      "source": [
        "print(f'The dataset now has {HYG.shape[0]} observations after stars with missing spectral type are dropped')"
      ]
    },
    {
      "cell_type": "code",
      "execution_count": 9,
      "metadata": {
        "id": "hEhbtltuAvcH"
      },
      "outputs": [],
      "source": [
        "def find_cap_character(string):\n",
        "    return re.findall('[A-Z]', string)"
      ]
    },
    {
      "cell_type": "code",
      "execution_count": 10,
      "metadata": {
        "colab": {
          "base_uri": "https://localhost:8080/"
        },
        "id": "lDH1UpfpAxVO",
        "outputId": "69292746-653f-470d-f728-a09e46fa9414"
      },
      "outputs": [
        {
          "data": {
            "text/plain": [
              "0         [G, V]\n",
              "1            [F]\n",
              "2         [K, V]\n",
              "3            [B]\n",
              "4         [F, V]\n",
              "           ...  \n",
              "119609        []\n",
              "119610        []\n",
              "119611       [M]\n",
              "119612       [M]\n",
              "119613    [D, A]\n",
              "Name: spect, Length: 116564, dtype: object"
            ]
          },
          "execution_count": 10,
          "metadata": {},
          "output_type": "execute_result"
        }
      ],
      "source": [
        "cap_chars = HYG['spect'].apply(find_cap_character)\n",
        "cap_chars"
      ]
    },
    {
      "cell_type": "code",
      "execution_count": 11,
      "metadata": {
        "id": "ImOVelV-Azh2"
      },
      "outputs": [],
      "source": [
        "MK_star_types = ['O', 'B', 'A', 'F', 'G', 'K', 'M']"
      ]
    },
    {
      "cell_type": "code",
      "execution_count": 12,
      "metadata": {
        "colab": {
          "base_uri": "https://localhost:8080/"
        },
        "id": "vm6jXiUiA1_7",
        "outputId": "e08ad993-2f4b-45d0-f35e-a28f4b0eb527"
      },
      "outputs": [
        {
          "data": {
            "text/plain": [
              "['G', 'F', 'K', 'B', 'F', 'G', 'M', 'G', 'M', 'G']"
            ]
          },
          "execution_count": 12,
          "metadata": {},
          "output_type": "execute_result"
        }
      ],
      "source": [
        "first_cap_char = [cap_char_list[0] if len(cap_char_list) >= 1 else np.NaN for cap_char_list in cap_chars]\n",
        "first_cap_char[:10]"
      ]
    },
    {
      "cell_type": "code",
      "execution_count": 13,
      "metadata": {
        "colab": {
          "base_uri": "https://localhost:8080/"
        },
        "id": "EG7qoJWrA3k9",
        "outputId": "c328019c-3fed-40ad-86ba-21cd16b74fc3"
      },
      "outputs": [
        {
          "data": {
            "text/plain": [
              "['G', 'F', 'K', 'B', 'F', 'G', 'M', 'G', 'M', 'G']"
            ]
          },
          "execution_count": 13,
          "metadata": {},
          "output_type": "execute_result"
        }
      ],
      "source": [
        "naive_MK_spect = [cap_char if cap_char in MK_star_types else np.NaN for cap_char in first_cap_char]\n",
        "naive_MK_spect[:10]"
      ]
    },
    {
      "cell_type": "code",
      "execution_count": 14,
      "metadata": {
        "colab": {
          "base_uri": "https://localhost:8080/",
          "height": 319
        },
        "id": "KbYDBraDA5e7",
        "outputId": "e6568e66-4f3f-4c08-8966-d6c0c95ee744"
      },
      "outputs": [
        {
          "data": {
            "text/html": [
              "\n",
              "  <div id=\"df-cefeaa5e-f729-458a-a3a0-45f0e9b93b26\">\n",
              "    <div class=\"colab-df-container\">\n",
              "      <div>\n",
              "<style scoped>\n",
              "    .dataframe tbody tr th:only-of-type {\n",
              "        vertical-align: middle;\n",
              "    }\n",
              "\n",
              "    .dataframe tbody tr th {\n",
              "        vertical-align: top;\n",
              "    }\n",
              "\n",
              "    .dataframe thead th {\n",
              "        text-align: right;\n",
              "    }\n",
              "</style>\n",
              "<table border=\"1\" class=\"dataframe\">\n",
              "  <thead>\n",
              "    <tr style=\"text-align: right;\">\n",
              "      <th></th>\n",
              "      <th>dist</th>\n",
              "      <th>rv</th>\n",
              "      <th>mag</th>\n",
              "      <th>absmag</th>\n",
              "      <th>spect</th>\n",
              "      <th>ci</th>\n",
              "      <th>x</th>\n",
              "      <th>y</th>\n",
              "      <th>z</th>\n",
              "      <th>vx</th>\n",
              "      <th>vy</th>\n",
              "      <th>vz</th>\n",
              "      <th>rarad</th>\n",
              "      <th>decrad</th>\n",
              "      <th>pmrarad</th>\n",
              "      <th>pmdecrad</th>\n",
              "      <th>lum</th>\n",
              "    </tr>\n",
              "  </thead>\n",
              "  <tbody>\n",
              "    <tr>\n",
              "      <th>0</th>\n",
              "      <td>0.0000</td>\n",
              "      <td>0.0</td>\n",
              "      <td>-26.70</td>\n",
              "      <td>4.850</td>\n",
              "      <td>G</td>\n",
              "      <td>0.656</td>\n",
              "      <td>0.000005</td>\n",
              "      <td>0.000000</td>\n",
              "      <td>0.000000</td>\n",
              "      <td>0.000000e+00</td>\n",
              "      <td>0.000000</td>\n",
              "      <td>0.000000e+00</td>\n",
              "      <td>0.000000</td>\n",
              "      <td>0.000000</td>\n",
              "      <td>0.000000e+00</td>\n",
              "      <td>0.000000e+00</td>\n",
              "      <td>1.000000</td>\n",
              "    </tr>\n",
              "    <tr>\n",
              "      <th>1</th>\n",
              "      <td>219.7802</td>\n",
              "      <td>0.0</td>\n",
              "      <td>9.10</td>\n",
              "      <td>2.390</td>\n",
              "      <td>F</td>\n",
              "      <td>0.482</td>\n",
              "      <td>219.740502</td>\n",
              "      <td>0.003449</td>\n",
              "      <td>4.177065</td>\n",
              "      <td>4.000000e-08</td>\n",
              "      <td>-0.000006</td>\n",
              "      <td>-2.000000e-06</td>\n",
              "      <td>0.000016</td>\n",
              "      <td>0.019007</td>\n",
              "      <td>-2.521031e-08</td>\n",
              "      <td>-9.114497e-09</td>\n",
              "      <td>9.638290</td>\n",
              "    </tr>\n",
              "    <tr>\n",
              "      <th>2</th>\n",
              "      <td>47.9616</td>\n",
              "      <td>0.0</td>\n",
              "      <td>9.27</td>\n",
              "      <td>5.866</td>\n",
              "      <td>K</td>\n",
              "      <td>0.999</td>\n",
              "      <td>45.210918</td>\n",
              "      <td>0.003365</td>\n",
              "      <td>-16.008996</td>\n",
              "      <td>-7.000000e-08</td>\n",
              "      <td>0.000042</td>\n",
              "      <td>-2.000000e-07</td>\n",
              "      <td>0.000074</td>\n",
              "      <td>-0.340319</td>\n",
              "      <td>8.785309e-07</td>\n",
              "      <td>-4.508767e-09</td>\n",
              "      <td>0.392283</td>\n",
              "    </tr>\n",
              "    <tr>\n",
              "      <th>3</th>\n",
              "      <td>442.4779</td>\n",
              "      <td>0.0</td>\n",
              "      <td>6.61</td>\n",
              "      <td>-1.619</td>\n",
              "      <td>B</td>\n",
              "      <td>-0.019</td>\n",
              "      <td>344.552785</td>\n",
              "      <td>0.030213</td>\n",
              "      <td>277.614965</td>\n",
              "      <td>3.920000e-06</td>\n",
              "      <td>0.000011</td>\n",
              "      <td>-4.860000e-06</td>\n",
              "      <td>0.000088</td>\n",
              "      <td>0.678222</td>\n",
              "      <td>2.540424e-08</td>\n",
              "      <td>-1.410808e-08</td>\n",
              "      <td>386.901132</td>\n",
              "    </tr>\n",
              "    <tr>\n",
              "      <th>4</th>\n",
              "      <td>134.2282</td>\n",
              "      <td>0.0</td>\n",
              "      <td>8.06</td>\n",
              "      <td>2.421</td>\n",
              "      <td>F</td>\n",
              "      <td>0.370</td>\n",
              "      <td>82.835513</td>\n",
              "      <td>0.012476</td>\n",
              "      <td>-105.619540</td>\n",
              "      <td>8.000000e-08</td>\n",
              "      <td>0.000041</td>\n",
              "      <td>6.000000e-08</td>\n",
              "      <td>0.000149</td>\n",
              "      <td>-0.905713</td>\n",
              "      <td>3.047054e-07</td>\n",
              "      <td>7.757010e-10</td>\n",
              "      <td>9.366989</td>\n",
              "    </tr>\n",
              "  </tbody>\n",
              "</table>\n",
              "</div>\n",
              "      <button class=\"colab-df-convert\" onclick=\"convertToInteractive('df-cefeaa5e-f729-458a-a3a0-45f0e9b93b26')\"\n",
              "              title=\"Convert this dataframe to an interactive table.\"\n",
              "              style=\"display:none;\">\n",
              "        \n",
              "  <svg xmlns=\"http://www.w3.org/2000/svg\" height=\"24px\"viewBox=\"0 0 24 24\"\n",
              "       width=\"24px\">\n",
              "    <path d=\"M0 0h24v24H0V0z\" fill=\"none\"/>\n",
              "    <path d=\"M18.56 5.44l.94 2.06.94-2.06 2.06-.94-2.06-.94-.94-2.06-.94 2.06-2.06.94zm-11 1L8.5 8.5l.94-2.06 2.06-.94-2.06-.94L8.5 2.5l-.94 2.06-2.06.94zm10 10l.94 2.06.94-2.06 2.06-.94-2.06-.94-.94-2.06-.94 2.06-2.06.94z\"/><path d=\"M17.41 7.96l-1.37-1.37c-.4-.4-.92-.59-1.43-.59-.52 0-1.04.2-1.43.59L10.3 9.45l-7.72 7.72c-.78.78-.78 2.05 0 2.83L4 21.41c.39.39.9.59 1.41.59.51 0 1.02-.2 1.41-.59l7.78-7.78 2.81-2.81c.8-.78.8-2.07 0-2.86zM5.41 20L4 18.59l7.72-7.72 1.47 1.35L5.41 20z\"/>\n",
              "  </svg>\n",
              "      </button>\n",
              "      \n",
              "  <style>\n",
              "    .colab-df-container {\n",
              "      display:flex;\n",
              "      flex-wrap:wrap;\n",
              "      gap: 12px;\n",
              "    }\n",
              "\n",
              "    .colab-df-convert {\n",
              "      background-color: #E8F0FE;\n",
              "      border: none;\n",
              "      border-radius: 50%;\n",
              "      cursor: pointer;\n",
              "      display: none;\n",
              "      fill: #1967D2;\n",
              "      height: 32px;\n",
              "      padding: 0 0 0 0;\n",
              "      width: 32px;\n",
              "    }\n",
              "\n",
              "    .colab-df-convert:hover {\n",
              "      background-color: #E2EBFA;\n",
              "      box-shadow: 0px 1px 2px rgba(60, 64, 67, 0.3), 0px 1px 3px 1px rgba(60, 64, 67, 0.15);\n",
              "      fill: #174EA6;\n",
              "    }\n",
              "\n",
              "    [theme=dark] .colab-df-convert {\n",
              "      background-color: #3B4455;\n",
              "      fill: #D2E3FC;\n",
              "    }\n",
              "\n",
              "    [theme=dark] .colab-df-convert:hover {\n",
              "      background-color: #434B5C;\n",
              "      box-shadow: 0px 1px 3px 1px rgba(0, 0, 0, 0.15);\n",
              "      filter: drop-shadow(0px 1px 2px rgba(0, 0, 0, 0.3));\n",
              "      fill: #FFFFFF;\n",
              "    }\n",
              "  </style>\n",
              "\n",
              "      <script>\n",
              "        const buttonEl =\n",
              "          document.querySelector('#df-cefeaa5e-f729-458a-a3a0-45f0e9b93b26 button.colab-df-convert');\n",
              "        buttonEl.style.display =\n",
              "          google.colab.kernel.accessAllowed ? 'block' : 'none';\n",
              "\n",
              "        async function convertToInteractive(key) {\n",
              "          const element = document.querySelector('#df-cefeaa5e-f729-458a-a3a0-45f0e9b93b26');\n",
              "          const dataTable =\n",
              "            await google.colab.kernel.invokeFunction('convertToInteractive',\n",
              "                                                     [key], {});\n",
              "          if (!dataTable) return;\n",
              "\n",
              "          const docLinkHtml = 'Like what you see? Visit the ' +\n",
              "            '<a target=\"_blank\" href=https://colab.research.google.com/notebooks/data_table.ipynb>data table notebook</a>'\n",
              "            + ' to learn more about interactive tables.';\n",
              "          element.innerHTML = '';\n",
              "          dataTable['output_type'] = 'display_data';\n",
              "          await google.colab.output.renderOutput(dataTable, element);\n",
              "          const docLink = document.createElement('div');\n",
              "          docLink.innerHTML = docLinkHtml;\n",
              "          element.appendChild(docLink);\n",
              "        }\n",
              "      </script>\n",
              "    </div>\n",
              "  </div>\n",
              "  "
            ],
            "text/plain": [
              "       dist   rv    mag  absmag spect     ci           x         y  \\\n",
              "0    0.0000  0.0 -26.70   4.850     G  0.656    0.000005  0.000000   \n",
              "1  219.7802  0.0   9.10   2.390     F  0.482  219.740502  0.003449   \n",
              "2   47.9616  0.0   9.27   5.866     K  0.999   45.210918  0.003365   \n",
              "3  442.4779  0.0   6.61  -1.619     B -0.019  344.552785  0.030213   \n",
              "4  134.2282  0.0   8.06   2.421     F  0.370   82.835513  0.012476   \n",
              "\n",
              "            z            vx        vy            vz     rarad    decrad  \\\n",
              "0    0.000000  0.000000e+00  0.000000  0.000000e+00  0.000000  0.000000   \n",
              "1    4.177065  4.000000e-08 -0.000006 -2.000000e-06  0.000016  0.019007   \n",
              "2  -16.008996 -7.000000e-08  0.000042 -2.000000e-07  0.000074 -0.340319   \n",
              "3  277.614965  3.920000e-06  0.000011 -4.860000e-06  0.000088  0.678222   \n",
              "4 -105.619540  8.000000e-08  0.000041  6.000000e-08  0.000149 -0.905713   \n",
              "\n",
              "        pmrarad      pmdecrad         lum  \n",
              "0  0.000000e+00  0.000000e+00    1.000000  \n",
              "1 -2.521031e-08 -9.114497e-09    9.638290  \n",
              "2  8.785309e-07 -4.508767e-09    0.392283  \n",
              "3  2.540424e-08 -1.410808e-08  386.901132  \n",
              "4  3.047054e-07  7.757010e-10    9.366989  "
            ]
          },
          "execution_count": 14,
          "metadata": {},
          "output_type": "execute_result"
        }
      ],
      "source": [
        "HYG['spect'] = naive_MK_spect\n",
        "missing_spec_index_1 = HYG[HYG['spect'].isnull()].index\n",
        "HYG = HYG.drop(labels = missing_spec_index_1)\n",
        "HYG.head()"
      ]
    },
    {
      "cell_type": "code",
      "execution_count": 15,
      "metadata": {
        "colab": {
          "base_uri": "https://localhost:8080/"
        },
        "id": "yapiTeZGA89S",
        "outputId": "6ee5a751-0b9b-4eca-9812-8aa3020b4249"
      },
      "outputs": [
        {
          "name": "stdout",
          "output_type": "stream",
          "text": [
            "The dataset now has 115276 observations after filtering nonconventional MK spectral type stars\n"
          ]
        }
      ],
      "source": [
        "print(f'The dataset now has {HYG.shape[0]} observations after filtering nonconventional MK spectral type stars')"
      ]
    },
    {
      "cell_type": "code",
      "execution_count": 16,
      "metadata": {
        "colab": {
          "base_uri": "https://localhost:8080/"
        },
        "id": "6kfKc-r1A9YU",
        "outputId": "d7de7362-6ef8-4c2f-e3db-42d87047b4fc"
      },
      "outputs": [
        {
          "data": {
            "text/plain": [
              "0         0.656\n",
              "1         0.482\n",
              "2         0.999\n",
              "3        -0.019\n",
              "4         0.370\n",
              "          ...  \n",
              "119603    1.500\n",
              "119605      NaN\n",
              "119606      NaN\n",
              "119611    1.640\n",
              "119612      NaN\n",
              "Name: ci, Length: 115276, dtype: float64"
            ]
          },
          "execution_count": 16,
          "metadata": {},
          "output_type": "execute_result"
        }
      ],
      "source": [
        "HYG['ci']"
      ]
    },
    {
      "cell_type": "code",
      "execution_count": 17,
      "metadata": {
        "id": "MJV1bPllA_Ge"
      },
      "outputs": [],
      "source": [
        "def mean_impute(series: pd.Series):\n",
        "    return series.fillna(series.mean())"
      ]
    },
    {
      "cell_type": "code",
      "execution_count": 18,
      "metadata": {
        "colab": {
          "base_uri": "https://localhost:8080/"
        },
        "id": "1TgFusHLBA1s",
        "outputId": "fd254af7-c105-4e74-856a-b808a4acf948"
      },
      "outputs": [
        {
          "data": {
            "text/plain": [
              "0         0.656000\n",
              "1         0.482000\n",
              "2         0.999000\n",
              "3        -0.019000\n",
              "4         0.370000\n",
              "            ...   \n",
              "119603    1.500000\n",
              "119605    1.555152\n",
              "119606    1.555152\n",
              "119611    1.640000\n",
              "119612    1.555152\n",
              "Name: ci, Length: 115276, dtype: float64"
            ]
          },
          "execution_count": 18,
          "metadata": {},
          "output_type": "execute_result"
        }
      ],
      "source": [
        "HYG.groupby('spect')['ci'].transform(mean_impute)"
      ]
    },
    {
      "cell_type": "code",
      "execution_count": 19,
      "metadata": {
        "colab": {
          "base_uri": "https://localhost:8080/",
          "height": 573
        },
        "id": "7ppXwNTKBCfK",
        "outputId": "dea461d5-c076-4f75-8d49-2c4083e5793d"
      },
      "outputs": [
        {
          "data": {
            "text/html": [
              "\n",
              "  <div id=\"df-39d481ea-49ba-4e1b-b5ff-bb379514b9b6\">\n",
              "    <div class=\"colab-df-container\">\n",
              "      <div>\n",
              "<style scoped>\n",
              "    .dataframe tbody tr th:only-of-type {\n",
              "        vertical-align: middle;\n",
              "    }\n",
              "\n",
              "    .dataframe tbody tr th {\n",
              "        vertical-align: top;\n",
              "    }\n",
              "\n",
              "    .dataframe thead th {\n",
              "        text-align: right;\n",
              "    }\n",
              "</style>\n",
              "<table border=\"1\" class=\"dataframe\">\n",
              "  <thead>\n",
              "    <tr style=\"text-align: right;\">\n",
              "      <th></th>\n",
              "      <th>dist</th>\n",
              "      <th>rv</th>\n",
              "      <th>mag</th>\n",
              "      <th>absmag</th>\n",
              "      <th>spect</th>\n",
              "      <th>ci</th>\n",
              "      <th>x</th>\n",
              "      <th>y</th>\n",
              "      <th>z</th>\n",
              "      <th>vx</th>\n",
              "      <th>vy</th>\n",
              "      <th>vz</th>\n",
              "      <th>rarad</th>\n",
              "      <th>decrad</th>\n",
              "      <th>pmrarad</th>\n",
              "      <th>pmdecrad</th>\n",
              "      <th>lum</th>\n",
              "    </tr>\n",
              "  </thead>\n",
              "  <tbody>\n",
              "    <tr>\n",
              "      <th>119592</th>\n",
              "      <td>21.2766</td>\n",
              "      <td>0.0</td>\n",
              "      <td>13.57</td>\n",
              "      <td>11.930</td>\n",
              "      <td>M</td>\n",
              "      <td>1.555152</td>\n",
              "      <td>20.924183</td>\n",
              "      <td>-0.981973</td>\n",
              "      <td>3.729342</td>\n",
              "      <td>6.310000e-06</td>\n",
              "      <td>0.000005</td>\n",
              "      <td>-3.419000e-05</td>\n",
              "      <td>6.236290</td>\n",
              "      <td>0.176189</td>\n",
              "      <td>2.294138e-07</td>\n",
              "      <td>-1.632324e-06</td>\n",
              "      <td>0.001472</td>\n",
              "    </tr>\n",
              "    <tr>\n",
              "      <th>119593</th>\n",
              "      <td>25.0000</td>\n",
              "      <td>0.0</td>\n",
              "      <td>11.39</td>\n",
              "      <td>9.400</td>\n",
              "      <td>M</td>\n",
              "      <td>1.450000</td>\n",
              "      <td>24.709421</td>\n",
              "      <td>-1.119754</td>\n",
              "      <td>3.631897</td>\n",
              "      <td>6.180000e-06</td>\n",
              "      <td>0.000005</td>\n",
              "      <td>-4.037000e-05</td>\n",
              "      <td>6.237899</td>\n",
              "      <td>0.145792</td>\n",
              "      <td>2.294138e-07</td>\n",
              "      <td>-1.632324e-06</td>\n",
              "      <td>0.015136</td>\n",
              "    </tr>\n",
              "    <tr>\n",
              "      <th>119596</th>\n",
              "      <td>12.9870</td>\n",
              "      <td>0.0</td>\n",
              "      <td>11.50</td>\n",
              "      <td>10.932</td>\n",
              "      <td>M</td>\n",
              "      <td>1.450000</td>\n",
              "      <td>12.780938</td>\n",
              "      <td>-0.524501</td>\n",
              "      <td>2.243810</td>\n",
              "      <td>-1.990000e-06</td>\n",
              "      <td>0.000036</td>\n",
              "      <td>1.990000e-05</td>\n",
              "      <td>6.242168</td>\n",
              "      <td>0.173645</td>\n",
              "      <td>2.795872e-06</td>\n",
              "      <td>1.556160e-06</td>\n",
              "      <td>0.003691</td>\n",
              "    </tr>\n",
              "    <tr>\n",
              "      <th>119600</th>\n",
              "      <td>10.7898</td>\n",
              "      <td>0.0</td>\n",
              "      <td>11.70</td>\n",
              "      <td>11.535</td>\n",
              "      <td>M</td>\n",
              "      <td>1.555152</td>\n",
              "      <td>2.692069</td>\n",
              "      <td>-0.089412</td>\n",
              "      <td>10.448184</td>\n",
              "      <td>-2.220000e-06</td>\n",
              "      <td>0.000016</td>\n",
              "      <td>7.100000e-07</td>\n",
              "      <td>6.249769</td>\n",
              "      <td>1.318489</td>\n",
              "      <td>1.430540e-06</td>\n",
              "      <td>2.625508e-07</td>\n",
              "      <td>0.002118</td>\n",
              "    </tr>\n",
              "    <tr>\n",
              "      <th>119601</th>\n",
              "      <td>25.6410</td>\n",
              "      <td>0.0</td>\n",
              "      <td>13.30</td>\n",
              "      <td>11.255</td>\n",
              "      <td>M</td>\n",
              "      <td>1.555152</td>\n",
              "      <td>19.183393</td>\n",
              "      <td>-0.493876</td>\n",
              "      <td>-17.006304</td>\n",
              "      <td>-1.500000e-05</td>\n",
              "      <td>0.000061</td>\n",
              "      <td>-1.871000e-05</td>\n",
              "      <td>6.257406</td>\n",
              "      <td>-0.725148</td>\n",
              "      <td>2.377332e-06</td>\n",
              "      <td>-9.750136e-07</td>\n",
              "      <td>0.002742</td>\n",
              "    </tr>\n",
              "    <tr>\n",
              "      <th>119603</th>\n",
              "      <td>23.2558</td>\n",
              "      <td>0.0</td>\n",
              "      <td>13.01</td>\n",
              "      <td>11.177</td>\n",
              "      <td>M</td>\n",
              "      <td>1.500000</td>\n",
              "      <td>23.013520</td>\n",
              "      <td>-0.558489</td>\n",
              "      <td>3.301243</td>\n",
              "      <td>-6.000000e-08</td>\n",
              "      <td>-0.000032</td>\n",
              "      <td>-5.060000e-06</td>\n",
              "      <td>6.258923</td>\n",
              "      <td>0.142435</td>\n",
              "      <td>-1.388652e-06</td>\n",
              "      <td>-2.199357e-07</td>\n",
              "      <td>0.002946</td>\n",
              "    </tr>\n",
              "    <tr>\n",
              "      <th>119605</th>\n",
              "      <td>17.8571</td>\n",
              "      <td>0.0</td>\n",
              "      <td>12.93</td>\n",
              "      <td>11.671</td>\n",
              "      <td>M</td>\n",
              "      <td>1.555152</td>\n",
              "      <td>17.399674</td>\n",
              "      <td>-0.201634</td>\n",
              "      <td>-4.010825</td>\n",
              "      <td>5.800000e-07</td>\n",
              "      <td>0.000016</td>\n",
              "      <td>1.680000e-06</td>\n",
              "      <td>6.271596</td>\n",
              "      <td>-0.226539</td>\n",
              "      <td>9.161039e-07</td>\n",
              "      <td>9.628400e-08</td>\n",
              "      <td>0.001869</td>\n",
              "    </tr>\n",
              "    <tr>\n",
              "      <th>119606</th>\n",
              "      <td>17.8571</td>\n",
              "      <td>0.0</td>\n",
              "      <td>12.98</td>\n",
              "      <td>11.721</td>\n",
              "      <td>M</td>\n",
              "      <td>1.555152</td>\n",
              "      <td>17.399776</td>\n",
              "      <td>-0.202900</td>\n",
              "      <td>-4.010319</td>\n",
              "      <td>5.800000e-07</td>\n",
              "      <td>0.000016</td>\n",
              "      <td>1.680000e-06</td>\n",
              "      <td>6.271524</td>\n",
              "      <td>-0.226510</td>\n",
              "      <td>9.161039e-07</td>\n",
              "      <td>9.628400e-08</td>\n",
              "      <td>0.001785</td>\n",
              "    </tr>\n",
              "    <tr>\n",
              "      <th>119611</th>\n",
              "      <td>18.5185</td>\n",
              "      <td>0.0</td>\n",
              "      <td>12.82</td>\n",
              "      <td>11.482</td>\n",
              "      <td>M</td>\n",
              "      <td>1.640000</td>\n",
              "      <td>13.305832</td>\n",
              "      <td>-0.013199</td>\n",
              "      <td>-12.879810</td>\n",
              "      <td>1.682000e-05</td>\n",
              "      <td>-0.000002</td>\n",
              "      <td>1.737000e-05</td>\n",
              "      <td>6.282195</td>\n",
              "      <td>-0.769130</td>\n",
              "      <td>-9.129042e-08</td>\n",
              "      <td>1.305807e-06</td>\n",
              "      <td>0.002224</td>\n",
              "    </tr>\n",
              "    <tr>\n",
              "      <th>119612</th>\n",
              "      <td>12.8205</td>\n",
              "      <td>0.0</td>\n",
              "      <td>12.80</td>\n",
              "      <td>12.260</td>\n",
              "      <td>M</td>\n",
              "      <td>1.555152</td>\n",
              "      <td>10.614642</td>\n",
              "      <td>-0.006882</td>\n",
              "      <td>-7.189893</td>\n",
              "      <td>-2.172000e-05</td>\n",
              "      <td>0.000045</td>\n",
              "      <td>-3.214000e-05</td>\n",
              "      <td>6.282501</td>\n",
              "      <td>-0.595366</td>\n",
              "      <td>3.470684e-06</td>\n",
              "      <td>-3.027691e-06</td>\n",
              "      <td>0.001086</td>\n",
              "    </tr>\n",
              "  </tbody>\n",
              "</table>\n",
              "</div>\n",
              "      <button class=\"colab-df-convert\" onclick=\"convertToInteractive('df-39d481ea-49ba-4e1b-b5ff-bb379514b9b6')\"\n",
              "              title=\"Convert this dataframe to an interactive table.\"\n",
              "              style=\"display:none;\">\n",
              "        \n",
              "  <svg xmlns=\"http://www.w3.org/2000/svg\" height=\"24px\"viewBox=\"0 0 24 24\"\n",
              "       width=\"24px\">\n",
              "    <path d=\"M0 0h24v24H0V0z\" fill=\"none\"/>\n",
              "    <path d=\"M18.56 5.44l.94 2.06.94-2.06 2.06-.94-2.06-.94-.94-2.06-.94 2.06-2.06.94zm-11 1L8.5 8.5l.94-2.06 2.06-.94-2.06-.94L8.5 2.5l-.94 2.06-2.06.94zm10 10l.94 2.06.94-2.06 2.06-.94-2.06-.94-.94-2.06-.94 2.06-2.06.94z\"/><path d=\"M17.41 7.96l-1.37-1.37c-.4-.4-.92-.59-1.43-.59-.52 0-1.04.2-1.43.59L10.3 9.45l-7.72 7.72c-.78.78-.78 2.05 0 2.83L4 21.41c.39.39.9.59 1.41.59.51 0 1.02-.2 1.41-.59l7.78-7.78 2.81-2.81c.8-.78.8-2.07 0-2.86zM5.41 20L4 18.59l7.72-7.72 1.47 1.35L5.41 20z\"/>\n",
              "  </svg>\n",
              "      </button>\n",
              "      \n",
              "  <style>\n",
              "    .colab-df-container {\n",
              "      display:flex;\n",
              "      flex-wrap:wrap;\n",
              "      gap: 12px;\n",
              "    }\n",
              "\n",
              "    .colab-df-convert {\n",
              "      background-color: #E8F0FE;\n",
              "      border: none;\n",
              "      border-radius: 50%;\n",
              "      cursor: pointer;\n",
              "      display: none;\n",
              "      fill: #1967D2;\n",
              "      height: 32px;\n",
              "      padding: 0 0 0 0;\n",
              "      width: 32px;\n",
              "    }\n",
              "\n",
              "    .colab-df-convert:hover {\n",
              "      background-color: #E2EBFA;\n",
              "      box-shadow: 0px 1px 2px rgba(60, 64, 67, 0.3), 0px 1px 3px 1px rgba(60, 64, 67, 0.15);\n",
              "      fill: #174EA6;\n",
              "    }\n",
              "\n",
              "    [theme=dark] .colab-df-convert {\n",
              "      background-color: #3B4455;\n",
              "      fill: #D2E3FC;\n",
              "    }\n",
              "\n",
              "    [theme=dark] .colab-df-convert:hover {\n",
              "      background-color: #434B5C;\n",
              "      box-shadow: 0px 1px 3px 1px rgba(0, 0, 0, 0.15);\n",
              "      filter: drop-shadow(0px 1px 2px rgba(0, 0, 0, 0.3));\n",
              "      fill: #FFFFFF;\n",
              "    }\n",
              "  </style>\n",
              "\n",
              "      <script>\n",
              "        const buttonEl =\n",
              "          document.querySelector('#df-39d481ea-49ba-4e1b-b5ff-bb379514b9b6 button.colab-df-convert');\n",
              "        buttonEl.style.display =\n",
              "          google.colab.kernel.accessAllowed ? 'block' : 'none';\n",
              "\n",
              "        async function convertToInteractive(key) {\n",
              "          const element = document.querySelector('#df-39d481ea-49ba-4e1b-b5ff-bb379514b9b6');\n",
              "          const dataTable =\n",
              "            await google.colab.kernel.invokeFunction('convertToInteractive',\n",
              "                                                     [key], {});\n",
              "          if (!dataTable) return;\n",
              "\n",
              "          const docLinkHtml = 'Like what you see? Visit the ' +\n",
              "            '<a target=\"_blank\" href=https://colab.research.google.com/notebooks/data_table.ipynb>data table notebook</a>'\n",
              "            + ' to learn more about interactive tables.';\n",
              "          element.innerHTML = '';\n",
              "          dataTable['output_type'] = 'display_data';\n",
              "          await google.colab.output.renderOutput(dataTable, element);\n",
              "          const docLink = document.createElement('div');\n",
              "          docLink.innerHTML = docLinkHtml;\n",
              "          element.appendChild(docLink);\n",
              "        }\n",
              "      </script>\n",
              "    </div>\n",
              "  </div>\n",
              "  "
            ],
            "text/plain": [
              "           dist   rv    mag  absmag spect        ci          x         y  \\\n",
              "119592  21.2766  0.0  13.57  11.930     M  1.555152  20.924183 -0.981973   \n",
              "119593  25.0000  0.0  11.39   9.400     M  1.450000  24.709421 -1.119754   \n",
              "119596  12.9870  0.0  11.50  10.932     M  1.450000  12.780938 -0.524501   \n",
              "119600  10.7898  0.0  11.70  11.535     M  1.555152   2.692069 -0.089412   \n",
              "119601  25.6410  0.0  13.30  11.255     M  1.555152  19.183393 -0.493876   \n",
              "119603  23.2558  0.0  13.01  11.177     M  1.500000  23.013520 -0.558489   \n",
              "119605  17.8571  0.0  12.93  11.671     M  1.555152  17.399674 -0.201634   \n",
              "119606  17.8571  0.0  12.98  11.721     M  1.555152  17.399776 -0.202900   \n",
              "119611  18.5185  0.0  12.82  11.482     M  1.640000  13.305832 -0.013199   \n",
              "119612  12.8205  0.0  12.80  12.260     M  1.555152  10.614642 -0.006882   \n",
              "\n",
              "                z            vx        vy            vz     rarad    decrad  \\\n",
              "119592   3.729342  6.310000e-06  0.000005 -3.419000e-05  6.236290  0.176189   \n",
              "119593   3.631897  6.180000e-06  0.000005 -4.037000e-05  6.237899  0.145792   \n",
              "119596   2.243810 -1.990000e-06  0.000036  1.990000e-05  6.242168  0.173645   \n",
              "119600  10.448184 -2.220000e-06  0.000016  7.100000e-07  6.249769  1.318489   \n",
              "119601 -17.006304 -1.500000e-05  0.000061 -1.871000e-05  6.257406 -0.725148   \n",
              "119603   3.301243 -6.000000e-08 -0.000032 -5.060000e-06  6.258923  0.142435   \n",
              "119605  -4.010825  5.800000e-07  0.000016  1.680000e-06  6.271596 -0.226539   \n",
              "119606  -4.010319  5.800000e-07  0.000016  1.680000e-06  6.271524 -0.226510   \n",
              "119611 -12.879810  1.682000e-05 -0.000002  1.737000e-05  6.282195 -0.769130   \n",
              "119612  -7.189893 -2.172000e-05  0.000045 -3.214000e-05  6.282501 -0.595366   \n",
              "\n",
              "             pmrarad      pmdecrad       lum  \n",
              "119592  2.294138e-07 -1.632324e-06  0.001472  \n",
              "119593  2.294138e-07 -1.632324e-06  0.015136  \n",
              "119596  2.795872e-06  1.556160e-06  0.003691  \n",
              "119600  1.430540e-06  2.625508e-07  0.002118  \n",
              "119601  2.377332e-06 -9.750136e-07  0.002742  \n",
              "119603 -1.388652e-06 -2.199357e-07  0.002946  \n",
              "119605  9.161039e-07  9.628400e-08  0.001869  \n",
              "119606  9.161039e-07  9.628400e-08  0.001785  \n",
              "119611 -9.129042e-08  1.305807e-06  0.002224  \n",
              "119612  3.470684e-06 -3.027691e-06  0.001086  "
            ]
          },
          "execution_count": 19,
          "metadata": {},
          "output_type": "execute_result"
        }
      ],
      "source": [
        "HYG['ci'] = HYG.groupby('spect')['ci'].transform(mean_impute)\n",
        "HYG.tail(10)"
      ]
    },
    {
      "cell_type": "code",
      "execution_count": 20,
      "metadata": {
        "colab": {
          "base_uri": "https://localhost:8080/"
        },
        "id": "LJaSX5VDBEpr",
        "outputId": "6284447a-7711-4f5a-8e62-9d98ac94f7ba"
      },
      "outputs": [
        {
          "name": "stdout",
          "output_type": "stream",
          "text": [
            "<class 'pandas.core.frame.DataFrame'>\n",
            "Int64Index: 115276 entries, 0 to 119612\n",
            "Data columns (total 17 columns):\n",
            " #   Column    Non-Null Count   Dtype  \n",
            "---  ------    --------------   -----  \n",
            " 0   dist      115276 non-null  float64\n",
            " 1   rv        115276 non-null  float64\n",
            " 2   mag       115276 non-null  float64\n",
            " 3   absmag    115276 non-null  float64\n",
            " 4   spect     115276 non-null  object \n",
            " 5   ci        115276 non-null  float64\n",
            " 6   x         115276 non-null  float64\n",
            " 7   y         115276 non-null  float64\n",
            " 8   z         115276 non-null  float64\n",
            " 9   vx        115276 non-null  float64\n",
            " 10  vy        115276 non-null  float64\n",
            " 11  vz        115276 non-null  float64\n",
            " 12  rarad     115276 non-null  float64\n",
            " 13  decrad    115276 non-null  float64\n",
            " 14  pmrarad   115276 non-null  float64\n",
            " 15  pmdecrad  115276 non-null  float64\n",
            " 16  lum       115276 non-null  float64\n",
            "dtypes: float64(16), object(1)\n",
            "memory usage: 15.8+ MB\n"
          ]
        }
      ],
      "source": [
        "HYG.info()"
      ]
    },
    {
      "cell_type": "markdown",
      "metadata": {
        "id": "ZAccgocm2vtA"
      },
      "source": [
        "# Evaluation Metrics\n",
        "\n",
        "For our KNN classifier, we would like to use accuracy and precision to determine how good our model is. Specifically, we would like to use sklearn.metrics.accuracy_score and sklearn.metrics.average_precision_score to evaluate the performance of our model.\n",
        "\n",
        "Accuracy indicates how many correct data points we can get from the overall data set. This is an important factor to help us to evaluate our training model. The way the accuracy is defined is by using true positives and true negatives divided by the number of true positives, true negatives, false positives, and false negatives. The equation is shown below:\n",
        "\n",
        "$ {Accuracy} = \\frac {True Positives + True Negatives}{True Positives + True Negatives + False Positives + False Negatives} $\n",
        "\n",
        "We want our accuracy as high as possible because the higher the accuracy, the better our classifier can make the right classifications.\n",
        "\n",
        "Precision is the quality of the positive prediction generated by the training model. It refers to the number of true positives divided by the total number of positive predictions. The equation is shown below:\n",
        "\n",
        "$ {Precision} = \\frac {True Positives}{True Positives + False Positives} $\n",
        "\n",
        "We also want our precision as high as possible because the higher our precision, the lower the chance the classifier can make false positive results."
      ]
    },
    {
      "cell_type": "code",
      "execution_count": 21,
      "metadata": {
        "id": "qcY_kVNV-cCd"
      },
      "outputs": [],
      "source": [
        "from sklearn.model_selection import GridSearchCV\n",
        "from sklearn.model_selection import train_test_split\n",
        "from sklearn.model_selection import KFold\n",
        "from sklearn.tree import DecisionTreeClassifier\n",
        "from sklearn.neighbors import KNeighborsClassifier\n",
        "from sklearn.svm import SVC"
      ]
    },
    {
      "cell_type": "code",
      "execution_count": 22,
      "metadata": {
        "id": "1kKHMOt1Z6Se"
      },
      "outputs": [],
      "source": [
        "X = HYG.loc[:, ['absmag', 'ci', 'lum']]\n",
        "y = HYG.loc[:, ['spect']]\n",
        "X_train, X_test, y_train, y_test = train_test_split(X, y)"
      ]
    },
    {
      "cell_type": "code",
      "execution_count": 23,
      "metadata": {
        "colab": {
          "base_uri": "https://localhost:8080/"
        },
        "id": "gcD1UJ-jY2kA",
        "outputId": "be2b4974-79fa-486e-dbd5-0ebe7e80ae58"
      },
      "outputs": [
        {
          "name": "stdout",
          "output_type": "stream",
          "text": [
            "Fitting 5 folds for each of 15 candidates, totalling 75 fits\n"
          ]
        },
        {
          "name": "stderr",
          "output_type": "stream",
          "text": [
            "/usr/local/lib/python3.7/dist-packages/sklearn/neighbors/_classification.py:198: DataConversionWarning: A column-vector y was passed when a 1d array was expected. Please change the shape of y to (n_samples,), for example using ravel().\n",
            "  return self._fit(X, y)\n"
          ]
        },
        {
          "name": "stdout",
          "output_type": "stream",
          "text": [
            "[CV 1/5] END .....................n_neighbors=5;, score=0.705 total time=   0.7s\n"
          ]
        },
        {
          "name": "stderr",
          "output_type": "stream",
          "text": [
            "/usr/local/lib/python3.7/dist-packages/sklearn/neighbors/_classification.py:198: DataConversionWarning: A column-vector y was passed when a 1d array was expected. Please change the shape of y to (n_samples,), for example using ravel().\n",
            "  return self._fit(X, y)\n"
          ]
        },
        {
          "name": "stdout",
          "output_type": "stream",
          "text": [
            "[CV 2/5] END .....................n_neighbors=5;, score=0.705 total time=   0.6s\n"
          ]
        },
        {
          "name": "stderr",
          "output_type": "stream",
          "text": [
            "/usr/local/lib/python3.7/dist-packages/sklearn/neighbors/_classification.py:198: DataConversionWarning: A column-vector y was passed when a 1d array was expected. Please change the shape of y to (n_samples,), for example using ravel().\n",
            "  return self._fit(X, y)\n"
          ]
        },
        {
          "name": "stdout",
          "output_type": "stream",
          "text": [
            "[CV 3/5] END .....................n_neighbors=5;, score=0.706 total time=   0.6s\n"
          ]
        },
        {
          "name": "stderr",
          "output_type": "stream",
          "text": [
            "/usr/local/lib/python3.7/dist-packages/sklearn/neighbors/_classification.py:198: DataConversionWarning: A column-vector y was passed when a 1d array was expected. Please change the shape of y to (n_samples,), for example using ravel().\n",
            "  return self._fit(X, y)\n"
          ]
        },
        {
          "name": "stdout",
          "output_type": "stream",
          "text": [
            "[CV 4/5] END .....................n_neighbors=5;, score=0.704 total time=   0.6s\n"
          ]
        },
        {
          "name": "stderr",
          "output_type": "stream",
          "text": [
            "/usr/local/lib/python3.7/dist-packages/sklearn/neighbors/_classification.py:198: DataConversionWarning: A column-vector y was passed when a 1d array was expected. Please change the shape of y to (n_samples,), for example using ravel().\n",
            "  return self._fit(X, y)\n"
          ]
        },
        {
          "name": "stdout",
          "output_type": "stream",
          "text": [
            "[CV 5/5] END .....................n_neighbors=5;, score=0.710 total time=   0.6s\n"
          ]
        },
        {
          "name": "stderr",
          "output_type": "stream",
          "text": [
            "/usr/local/lib/python3.7/dist-packages/sklearn/neighbors/_classification.py:198: DataConversionWarning: A column-vector y was passed when a 1d array was expected. Please change the shape of y to (n_samples,), for example using ravel().\n",
            "  return self._fit(X, y)\n"
          ]
        },
        {
          "name": "stdout",
          "output_type": "stream",
          "text": [
            "[CV 1/5] END .....................n_neighbors=6;, score=0.701 total time=   0.6s\n"
          ]
        },
        {
          "name": "stderr",
          "output_type": "stream",
          "text": [
            "/usr/local/lib/python3.7/dist-packages/sklearn/neighbors/_classification.py:198: DataConversionWarning: A column-vector y was passed when a 1d array was expected. Please change the shape of y to (n_samples,), for example using ravel().\n",
            "  return self._fit(X, y)\n"
          ]
        },
        {
          "name": "stdout",
          "output_type": "stream",
          "text": [
            "[CV 2/5] END .....................n_neighbors=6;, score=0.706 total time=   0.7s\n"
          ]
        },
        {
          "name": "stderr",
          "output_type": "stream",
          "text": [
            "/usr/local/lib/python3.7/dist-packages/sklearn/neighbors/_classification.py:198: DataConversionWarning: A column-vector y was passed when a 1d array was expected. Please change the shape of y to (n_samples,), for example using ravel().\n",
            "  return self._fit(X, y)\n"
          ]
        },
        {
          "name": "stdout",
          "output_type": "stream",
          "text": [
            "[CV 3/5] END .....................n_neighbors=6;, score=0.703 total time=   0.6s\n"
          ]
        },
        {
          "name": "stderr",
          "output_type": "stream",
          "text": [
            "/usr/local/lib/python3.7/dist-packages/sklearn/neighbors/_classification.py:198: DataConversionWarning: A column-vector y was passed when a 1d array was expected. Please change the shape of y to (n_samples,), for example using ravel().\n",
            "  return self._fit(X, y)\n"
          ]
        },
        {
          "name": "stdout",
          "output_type": "stream",
          "text": [
            "[CV 4/5] END .....................n_neighbors=6;, score=0.703 total time=   0.6s\n"
          ]
        },
        {
          "name": "stderr",
          "output_type": "stream",
          "text": [
            "/usr/local/lib/python3.7/dist-packages/sklearn/neighbors/_classification.py:198: DataConversionWarning: A column-vector y was passed when a 1d array was expected. Please change the shape of y to (n_samples,), for example using ravel().\n",
            "  return self._fit(X, y)\n"
          ]
        },
        {
          "name": "stdout",
          "output_type": "stream",
          "text": [
            "[CV 5/5] END .....................n_neighbors=6;, score=0.708 total time=   0.6s\n"
          ]
        },
        {
          "name": "stderr",
          "output_type": "stream",
          "text": [
            "/usr/local/lib/python3.7/dist-packages/sklearn/neighbors/_classification.py:198: DataConversionWarning: A column-vector y was passed when a 1d array was expected. Please change the shape of y to (n_samples,), for example using ravel().\n",
            "  return self._fit(X, y)\n"
          ]
        },
        {
          "name": "stdout",
          "output_type": "stream",
          "text": [
            "[CV 1/5] END .....................n_neighbors=7;, score=0.708 total time=   0.6s\n"
          ]
        },
        {
          "name": "stderr",
          "output_type": "stream",
          "text": [
            "/usr/local/lib/python3.7/dist-packages/sklearn/neighbors/_classification.py:198: DataConversionWarning: A column-vector y was passed when a 1d array was expected. Please change the shape of y to (n_samples,), for example using ravel().\n",
            "  return self._fit(X, y)\n"
          ]
        },
        {
          "name": "stdout",
          "output_type": "stream",
          "text": [
            "[CV 2/5] END .....................n_neighbors=7;, score=0.713 total time=   0.6s\n"
          ]
        },
        {
          "name": "stderr",
          "output_type": "stream",
          "text": [
            "/usr/local/lib/python3.7/dist-packages/sklearn/neighbors/_classification.py:198: DataConversionWarning: A column-vector y was passed when a 1d array was expected. Please change the shape of y to (n_samples,), for example using ravel().\n",
            "  return self._fit(X, y)\n"
          ]
        },
        {
          "name": "stdout",
          "output_type": "stream",
          "text": [
            "[CV 3/5] END .....................n_neighbors=7;, score=0.709 total time=   0.6s\n"
          ]
        },
        {
          "name": "stderr",
          "output_type": "stream",
          "text": [
            "/usr/local/lib/python3.7/dist-packages/sklearn/neighbors/_classification.py:198: DataConversionWarning: A column-vector y was passed when a 1d array was expected. Please change the shape of y to (n_samples,), for example using ravel().\n",
            "  return self._fit(X, y)\n"
          ]
        },
        {
          "name": "stdout",
          "output_type": "stream",
          "text": [
            "[CV 4/5] END .....................n_neighbors=7;, score=0.709 total time=   0.6s\n"
          ]
        },
        {
          "name": "stderr",
          "output_type": "stream",
          "text": [
            "/usr/local/lib/python3.7/dist-packages/sklearn/neighbors/_classification.py:198: DataConversionWarning: A column-vector y was passed when a 1d array was expected. Please change the shape of y to (n_samples,), for example using ravel().\n",
            "  return self._fit(X, y)\n"
          ]
        },
        {
          "name": "stdout",
          "output_type": "stream",
          "text": [
            "[CV 5/5] END .....................n_neighbors=7;, score=0.712 total time=   0.6s\n"
          ]
        },
        {
          "name": "stderr",
          "output_type": "stream",
          "text": [
            "/usr/local/lib/python3.7/dist-packages/sklearn/neighbors/_classification.py:198: DataConversionWarning: A column-vector y was passed when a 1d array was expected. Please change the shape of y to (n_samples,), for example using ravel().\n",
            "  return self._fit(X, y)\n"
          ]
        },
        {
          "name": "stdout",
          "output_type": "stream",
          "text": [
            "[CV 1/5] END .....................n_neighbors=8;, score=0.704 total time=   0.6s\n"
          ]
        },
        {
          "name": "stderr",
          "output_type": "stream",
          "text": [
            "/usr/local/lib/python3.7/dist-packages/sklearn/neighbors/_classification.py:198: DataConversionWarning: A column-vector y was passed when a 1d array was expected. Please change the shape of y to (n_samples,), for example using ravel().\n",
            "  return self._fit(X, y)\n"
          ]
        },
        {
          "name": "stdout",
          "output_type": "stream",
          "text": [
            "[CV 2/5] END .....................n_neighbors=8;, score=0.713 total time=   0.6s\n"
          ]
        },
        {
          "name": "stderr",
          "output_type": "stream",
          "text": [
            "/usr/local/lib/python3.7/dist-packages/sklearn/neighbors/_classification.py:198: DataConversionWarning: A column-vector y was passed when a 1d array was expected. Please change the shape of y to (n_samples,), for example using ravel().\n",
            "  return self._fit(X, y)\n"
          ]
        },
        {
          "name": "stdout",
          "output_type": "stream",
          "text": [
            "[CV 3/5] END .....................n_neighbors=8;, score=0.706 total time=   0.7s\n"
          ]
        },
        {
          "name": "stderr",
          "output_type": "stream",
          "text": [
            "/usr/local/lib/python3.7/dist-packages/sklearn/neighbors/_classification.py:198: DataConversionWarning: A column-vector y was passed when a 1d array was expected. Please change the shape of y to (n_samples,), for example using ravel().\n",
            "  return self._fit(X, y)\n"
          ]
        },
        {
          "name": "stdout",
          "output_type": "stream",
          "text": [
            "[CV 4/5] END .....................n_neighbors=8;, score=0.707 total time=   0.6s\n"
          ]
        },
        {
          "name": "stderr",
          "output_type": "stream",
          "text": [
            "/usr/local/lib/python3.7/dist-packages/sklearn/neighbors/_classification.py:198: DataConversionWarning: A column-vector y was passed when a 1d array was expected. Please change the shape of y to (n_samples,), for example using ravel().\n",
            "  return self._fit(X, y)\n"
          ]
        },
        {
          "name": "stdout",
          "output_type": "stream",
          "text": [
            "[CV 5/5] END .....................n_neighbors=8;, score=0.711 total time=   0.6s\n"
          ]
        },
        {
          "name": "stderr",
          "output_type": "stream",
          "text": [
            "/usr/local/lib/python3.7/dist-packages/sklearn/neighbors/_classification.py:198: DataConversionWarning: A column-vector y was passed when a 1d array was expected. Please change the shape of y to (n_samples,), for example using ravel().\n",
            "  return self._fit(X, y)\n"
          ]
        },
        {
          "name": "stdout",
          "output_type": "stream",
          "text": [
            "[CV 1/5] END .....................n_neighbors=9;, score=0.707 total time=   0.6s\n"
          ]
        },
        {
          "name": "stderr",
          "output_type": "stream",
          "text": [
            "/usr/local/lib/python3.7/dist-packages/sklearn/neighbors/_classification.py:198: DataConversionWarning: A column-vector y was passed when a 1d array was expected. Please change the shape of y to (n_samples,), for example using ravel().\n",
            "  return self._fit(X, y)\n"
          ]
        },
        {
          "name": "stdout",
          "output_type": "stream",
          "text": [
            "[CV 2/5] END .....................n_neighbors=9;, score=0.713 total time=   0.6s\n"
          ]
        },
        {
          "name": "stderr",
          "output_type": "stream",
          "text": [
            "/usr/local/lib/python3.7/dist-packages/sklearn/neighbors/_classification.py:198: DataConversionWarning: A column-vector y was passed when a 1d array was expected. Please change the shape of y to (n_samples,), for example using ravel().\n",
            "  return self._fit(X, y)\n"
          ]
        },
        {
          "name": "stdout",
          "output_type": "stream",
          "text": [
            "[CV 3/5] END .....................n_neighbors=9;, score=0.708 total time=   0.7s\n"
          ]
        },
        {
          "name": "stderr",
          "output_type": "stream",
          "text": [
            "/usr/local/lib/python3.7/dist-packages/sklearn/neighbors/_classification.py:198: DataConversionWarning: A column-vector y was passed when a 1d array was expected. Please change the shape of y to (n_samples,), for example using ravel().\n",
            "  return self._fit(X, y)\n"
          ]
        },
        {
          "name": "stdout",
          "output_type": "stream",
          "text": [
            "[CV 4/5] END .....................n_neighbors=9;, score=0.707 total time=   0.6s\n"
          ]
        },
        {
          "name": "stderr",
          "output_type": "stream",
          "text": [
            "/usr/local/lib/python3.7/dist-packages/sklearn/neighbors/_classification.py:198: DataConversionWarning: A column-vector y was passed when a 1d array was expected. Please change the shape of y to (n_samples,), for example using ravel().\n",
            "  return self._fit(X, y)\n"
          ]
        },
        {
          "name": "stdout",
          "output_type": "stream",
          "text": [
            "[CV 5/5] END .....................n_neighbors=9;, score=0.713 total time=   0.6s\n"
          ]
        },
        {
          "name": "stderr",
          "output_type": "stream",
          "text": [
            "/usr/local/lib/python3.7/dist-packages/sklearn/neighbors/_classification.py:198: DataConversionWarning: A column-vector y was passed when a 1d array was expected. Please change the shape of y to (n_samples,), for example using ravel().\n",
            "  return self._fit(X, y)\n"
          ]
        },
        {
          "name": "stdout",
          "output_type": "stream",
          "text": [
            "[CV 1/5] END ....................n_neighbors=10;, score=0.707 total time=   0.6s\n"
          ]
        },
        {
          "name": "stderr",
          "output_type": "stream",
          "text": [
            "/usr/local/lib/python3.7/dist-packages/sklearn/neighbors/_classification.py:198: DataConversionWarning: A column-vector y was passed when a 1d array was expected. Please change the shape of y to (n_samples,), for example using ravel().\n",
            "  return self._fit(X, y)\n"
          ]
        },
        {
          "name": "stdout",
          "output_type": "stream",
          "text": [
            "[CV 2/5] END ....................n_neighbors=10;, score=0.711 total time=   0.6s\n"
          ]
        },
        {
          "name": "stderr",
          "output_type": "stream",
          "text": [
            "/usr/local/lib/python3.7/dist-packages/sklearn/neighbors/_classification.py:198: DataConversionWarning: A column-vector y was passed when a 1d array was expected. Please change the shape of y to (n_samples,), for example using ravel().\n",
            "  return self._fit(X, y)\n"
          ]
        },
        {
          "name": "stdout",
          "output_type": "stream",
          "text": [
            "[CV 3/5] END ....................n_neighbors=10;, score=0.706 total time=   0.6s\n"
          ]
        },
        {
          "name": "stderr",
          "output_type": "stream",
          "text": [
            "/usr/local/lib/python3.7/dist-packages/sklearn/neighbors/_classification.py:198: DataConversionWarning: A column-vector y was passed when a 1d array was expected. Please change the shape of y to (n_samples,), for example using ravel().\n",
            "  return self._fit(X, y)\n"
          ]
        },
        {
          "name": "stdout",
          "output_type": "stream",
          "text": [
            "[CV 4/5] END ....................n_neighbors=10;, score=0.707 total time=   0.6s\n"
          ]
        },
        {
          "name": "stderr",
          "output_type": "stream",
          "text": [
            "/usr/local/lib/python3.7/dist-packages/sklearn/neighbors/_classification.py:198: DataConversionWarning: A column-vector y was passed when a 1d array was expected. Please change the shape of y to (n_samples,), for example using ravel().\n",
            "  return self._fit(X, y)\n"
          ]
        },
        {
          "name": "stdout",
          "output_type": "stream",
          "text": [
            "[CV 5/5] END ....................n_neighbors=10;, score=0.712 total time=   0.6s\n"
          ]
        },
        {
          "name": "stderr",
          "output_type": "stream",
          "text": [
            "/usr/local/lib/python3.7/dist-packages/sklearn/neighbors/_classification.py:198: DataConversionWarning: A column-vector y was passed when a 1d array was expected. Please change the shape of y to (n_samples,), for example using ravel().\n",
            "  return self._fit(X, y)\n"
          ]
        },
        {
          "name": "stdout",
          "output_type": "stream",
          "text": [
            "[CV 1/5] END ....................n_neighbors=11;, score=0.708 total time=   0.7s\n"
          ]
        },
        {
          "name": "stderr",
          "output_type": "stream",
          "text": [
            "/usr/local/lib/python3.7/dist-packages/sklearn/neighbors/_classification.py:198: DataConversionWarning: A column-vector y was passed when a 1d array was expected. Please change the shape of y to (n_samples,), for example using ravel().\n",
            "  return self._fit(X, y)\n"
          ]
        },
        {
          "name": "stdout",
          "output_type": "stream",
          "text": [
            "[CV 2/5] END ....................n_neighbors=11;, score=0.713 total time=   0.6s\n"
          ]
        },
        {
          "name": "stderr",
          "output_type": "stream",
          "text": [
            "/usr/local/lib/python3.7/dist-packages/sklearn/neighbors/_classification.py:198: DataConversionWarning: A column-vector y was passed when a 1d array was expected. Please change the shape of y to (n_samples,), for example using ravel().\n",
            "  return self._fit(X, y)\n"
          ]
        },
        {
          "name": "stdout",
          "output_type": "stream",
          "text": [
            "[CV 3/5] END ....................n_neighbors=11;, score=0.709 total time=   0.6s\n"
          ]
        },
        {
          "name": "stderr",
          "output_type": "stream",
          "text": [
            "/usr/local/lib/python3.7/dist-packages/sklearn/neighbors/_classification.py:198: DataConversionWarning: A column-vector y was passed when a 1d array was expected. Please change the shape of y to (n_samples,), for example using ravel().\n",
            "  return self._fit(X, y)\n"
          ]
        },
        {
          "name": "stdout",
          "output_type": "stream",
          "text": [
            "[CV 4/5] END ....................n_neighbors=11;, score=0.707 total time=   0.6s\n"
          ]
        },
        {
          "name": "stderr",
          "output_type": "stream",
          "text": [
            "/usr/local/lib/python3.7/dist-packages/sklearn/neighbors/_classification.py:198: DataConversionWarning: A column-vector y was passed when a 1d array was expected. Please change the shape of y to (n_samples,), for example using ravel().\n",
            "  return self._fit(X, y)\n"
          ]
        },
        {
          "name": "stdout",
          "output_type": "stream",
          "text": [
            "[CV 5/5] END ....................n_neighbors=11;, score=0.713 total time=   0.6s\n"
          ]
        },
        {
          "name": "stderr",
          "output_type": "stream",
          "text": [
            "/usr/local/lib/python3.7/dist-packages/sklearn/neighbors/_classification.py:198: DataConversionWarning: A column-vector y was passed when a 1d array was expected. Please change the shape of y to (n_samples,), for example using ravel().\n",
            "  return self._fit(X, y)\n"
          ]
        },
        {
          "name": "stdout",
          "output_type": "stream",
          "text": [
            "[CV 1/5] END ....................n_neighbors=12;, score=0.704 total time=   0.6s\n"
          ]
        },
        {
          "name": "stderr",
          "output_type": "stream",
          "text": [
            "/usr/local/lib/python3.7/dist-packages/sklearn/neighbors/_classification.py:198: DataConversionWarning: A column-vector y was passed when a 1d array was expected. Please change the shape of y to (n_samples,), for example using ravel().\n",
            "  return self._fit(X, y)\n"
          ]
        },
        {
          "name": "stdout",
          "output_type": "stream",
          "text": [
            "[CV 2/5] END ....................n_neighbors=12;, score=0.713 total time=   0.6s\n"
          ]
        },
        {
          "name": "stderr",
          "output_type": "stream",
          "text": [
            "/usr/local/lib/python3.7/dist-packages/sklearn/neighbors/_classification.py:198: DataConversionWarning: A column-vector y was passed when a 1d array was expected. Please change the shape of y to (n_samples,), for example using ravel().\n",
            "  return self._fit(X, y)\n"
          ]
        },
        {
          "name": "stdout",
          "output_type": "stream",
          "text": [
            "[CV 3/5] END ....................n_neighbors=12;, score=0.706 total time=   0.6s\n"
          ]
        },
        {
          "name": "stderr",
          "output_type": "stream",
          "text": [
            "/usr/local/lib/python3.7/dist-packages/sklearn/neighbors/_classification.py:198: DataConversionWarning: A column-vector y was passed when a 1d array was expected. Please change the shape of y to (n_samples,), for example using ravel().\n",
            "  return self._fit(X, y)\n"
          ]
        },
        {
          "name": "stdout",
          "output_type": "stream",
          "text": [
            "[CV 4/5] END ....................n_neighbors=12;, score=0.705 total time=   0.6s\n"
          ]
        },
        {
          "name": "stderr",
          "output_type": "stream",
          "text": [
            "/usr/local/lib/python3.7/dist-packages/sklearn/neighbors/_classification.py:198: DataConversionWarning: A column-vector y was passed when a 1d array was expected. Please change the shape of y to (n_samples,), for example using ravel().\n",
            "  return self._fit(X, y)\n"
          ]
        },
        {
          "name": "stdout",
          "output_type": "stream",
          "text": [
            "[CV 5/5] END ....................n_neighbors=12;, score=0.712 total time=   0.6s\n"
          ]
        },
        {
          "name": "stderr",
          "output_type": "stream",
          "text": [
            "/usr/local/lib/python3.7/dist-packages/sklearn/neighbors/_classification.py:198: DataConversionWarning: A column-vector y was passed when a 1d array was expected. Please change the shape of y to (n_samples,), for example using ravel().\n",
            "  return self._fit(X, y)\n"
          ]
        },
        {
          "name": "stdout",
          "output_type": "stream",
          "text": [
            "[CV 1/5] END ....................n_neighbors=13;, score=0.707 total time=   0.6s\n"
          ]
        },
        {
          "name": "stderr",
          "output_type": "stream",
          "text": [
            "/usr/local/lib/python3.7/dist-packages/sklearn/neighbors/_classification.py:198: DataConversionWarning: A column-vector y was passed when a 1d array was expected. Please change the shape of y to (n_samples,), for example using ravel().\n",
            "  return self._fit(X, y)\n"
          ]
        },
        {
          "name": "stdout",
          "output_type": "stream",
          "text": [
            "[CV 2/5] END ....................n_neighbors=13;, score=0.713 total time=   0.6s\n"
          ]
        },
        {
          "name": "stderr",
          "output_type": "stream",
          "text": [
            "/usr/local/lib/python3.7/dist-packages/sklearn/neighbors/_classification.py:198: DataConversionWarning: A column-vector y was passed when a 1d array was expected. Please change the shape of y to (n_samples,), for example using ravel().\n",
            "  return self._fit(X, y)\n"
          ]
        },
        {
          "name": "stdout",
          "output_type": "stream",
          "text": [
            "[CV 3/5] END ....................n_neighbors=13;, score=0.707 total time=   0.7s\n"
          ]
        },
        {
          "name": "stderr",
          "output_type": "stream",
          "text": [
            "/usr/local/lib/python3.7/dist-packages/sklearn/neighbors/_classification.py:198: DataConversionWarning: A column-vector y was passed when a 1d array was expected. Please change the shape of y to (n_samples,), for example using ravel().\n",
            "  return self._fit(X, y)\n"
          ]
        },
        {
          "name": "stdout",
          "output_type": "stream",
          "text": [
            "[CV 4/5] END ....................n_neighbors=13;, score=0.705 total time=   0.6s\n"
          ]
        },
        {
          "name": "stderr",
          "output_type": "stream",
          "text": [
            "/usr/local/lib/python3.7/dist-packages/sklearn/neighbors/_classification.py:198: DataConversionWarning: A column-vector y was passed when a 1d array was expected. Please change the shape of y to (n_samples,), for example using ravel().\n",
            "  return self._fit(X, y)\n"
          ]
        },
        {
          "name": "stdout",
          "output_type": "stream",
          "text": [
            "[CV 5/5] END ....................n_neighbors=13;, score=0.713 total time=   0.6s\n"
          ]
        },
        {
          "name": "stderr",
          "output_type": "stream",
          "text": [
            "/usr/local/lib/python3.7/dist-packages/sklearn/neighbors/_classification.py:198: DataConversionWarning: A column-vector y was passed when a 1d array was expected. Please change the shape of y to (n_samples,), for example using ravel().\n",
            "  return self._fit(X, y)\n"
          ]
        },
        {
          "name": "stdout",
          "output_type": "stream",
          "text": [
            "[CV 1/5] END ....................n_neighbors=14;, score=0.706 total time=   0.6s\n"
          ]
        },
        {
          "name": "stderr",
          "output_type": "stream",
          "text": [
            "/usr/local/lib/python3.7/dist-packages/sklearn/neighbors/_classification.py:198: DataConversionWarning: A column-vector y was passed when a 1d array was expected. Please change the shape of y to (n_samples,), for example using ravel().\n",
            "  return self._fit(X, y)\n"
          ]
        },
        {
          "name": "stdout",
          "output_type": "stream",
          "text": [
            "[CV 2/5] END ....................n_neighbors=14;, score=0.710 total time=   0.6s\n"
          ]
        },
        {
          "name": "stderr",
          "output_type": "stream",
          "text": [
            "/usr/local/lib/python3.7/dist-packages/sklearn/neighbors/_classification.py:198: DataConversionWarning: A column-vector y was passed when a 1d array was expected. Please change the shape of y to (n_samples,), for example using ravel().\n",
            "  return self._fit(X, y)\n"
          ]
        },
        {
          "name": "stdout",
          "output_type": "stream",
          "text": [
            "[CV 3/5] END ....................n_neighbors=14;, score=0.706 total time=   0.6s\n"
          ]
        },
        {
          "name": "stderr",
          "output_type": "stream",
          "text": [
            "/usr/local/lib/python3.7/dist-packages/sklearn/neighbors/_classification.py:198: DataConversionWarning: A column-vector y was passed when a 1d array was expected. Please change the shape of y to (n_samples,), for example using ravel().\n",
            "  return self._fit(X, y)\n"
          ]
        },
        {
          "name": "stdout",
          "output_type": "stream",
          "text": [
            "[CV 4/5] END ....................n_neighbors=14;, score=0.705 total time=   0.6s\n"
          ]
        },
        {
          "name": "stderr",
          "output_type": "stream",
          "text": [
            "/usr/local/lib/python3.7/dist-packages/sklearn/neighbors/_classification.py:198: DataConversionWarning: A column-vector y was passed when a 1d array was expected. Please change the shape of y to (n_samples,), for example using ravel().\n",
            "  return self._fit(X, y)\n"
          ]
        },
        {
          "name": "stdout",
          "output_type": "stream",
          "text": [
            "[CV 5/5] END ....................n_neighbors=14;, score=0.710 total time=   0.6s\n"
          ]
        },
        {
          "name": "stderr",
          "output_type": "stream",
          "text": [
            "/usr/local/lib/python3.7/dist-packages/sklearn/neighbors/_classification.py:198: DataConversionWarning: A column-vector y was passed when a 1d array was expected. Please change the shape of y to (n_samples,), for example using ravel().\n",
            "  return self._fit(X, y)\n"
          ]
        },
        {
          "name": "stdout",
          "output_type": "stream",
          "text": [
            "[CV 1/5] END ....................n_neighbors=15;, score=0.705 total time=   0.6s\n"
          ]
        },
        {
          "name": "stderr",
          "output_type": "stream",
          "text": [
            "/usr/local/lib/python3.7/dist-packages/sklearn/neighbors/_classification.py:198: DataConversionWarning: A column-vector y was passed when a 1d array was expected. Please change the shape of y to (n_samples,), for example using ravel().\n",
            "  return self._fit(X, y)\n"
          ]
        },
        {
          "name": "stdout",
          "output_type": "stream",
          "text": [
            "[CV 2/5] END ....................n_neighbors=15;, score=0.710 total time=   0.6s\n"
          ]
        },
        {
          "name": "stderr",
          "output_type": "stream",
          "text": [
            "/usr/local/lib/python3.7/dist-packages/sklearn/neighbors/_classification.py:198: DataConversionWarning: A column-vector y was passed when a 1d array was expected. Please change the shape of y to (n_samples,), for example using ravel().\n",
            "  return self._fit(X, y)\n"
          ]
        },
        {
          "name": "stdout",
          "output_type": "stream",
          "text": [
            "[CV 3/5] END ....................n_neighbors=15;, score=0.707 total time=   0.7s\n"
          ]
        },
        {
          "name": "stderr",
          "output_type": "stream",
          "text": [
            "/usr/local/lib/python3.7/dist-packages/sklearn/neighbors/_classification.py:198: DataConversionWarning: A column-vector y was passed when a 1d array was expected. Please change the shape of y to (n_samples,), for example using ravel().\n",
            "  return self._fit(X, y)\n"
          ]
        },
        {
          "name": "stdout",
          "output_type": "stream",
          "text": [
            "[CV 4/5] END ....................n_neighbors=15;, score=0.706 total time=   0.6s\n"
          ]
        },
        {
          "name": "stderr",
          "output_type": "stream",
          "text": [
            "/usr/local/lib/python3.7/dist-packages/sklearn/neighbors/_classification.py:198: DataConversionWarning: A column-vector y was passed when a 1d array was expected. Please change the shape of y to (n_samples,), for example using ravel().\n",
            "  return self._fit(X, y)\n"
          ]
        },
        {
          "name": "stdout",
          "output_type": "stream",
          "text": [
            "[CV 5/5] END ....................n_neighbors=15;, score=0.710 total time=   0.6s\n"
          ]
        },
        {
          "name": "stderr",
          "output_type": "stream",
          "text": [
            "/usr/local/lib/python3.7/dist-packages/sklearn/neighbors/_classification.py:198: DataConversionWarning: A column-vector y was passed when a 1d array was expected. Please change the shape of y to (n_samples,), for example using ravel().\n",
            "  return self._fit(X, y)\n"
          ]
        },
        {
          "name": "stdout",
          "output_type": "stream",
          "text": [
            "[CV 1/5] END ....................n_neighbors=16;, score=0.701 total time=   0.6s\n"
          ]
        },
        {
          "name": "stderr",
          "output_type": "stream",
          "text": [
            "/usr/local/lib/python3.7/dist-packages/sklearn/neighbors/_classification.py:198: DataConversionWarning: A column-vector y was passed when a 1d array was expected. Please change the shape of y to (n_samples,), for example using ravel().\n",
            "  return self._fit(X, y)\n"
          ]
        },
        {
          "name": "stdout",
          "output_type": "stream",
          "text": [
            "[CV 2/5] END ....................n_neighbors=16;, score=0.709 total time=   0.6s\n"
          ]
        },
        {
          "name": "stderr",
          "output_type": "stream",
          "text": [
            "/usr/local/lib/python3.7/dist-packages/sklearn/neighbors/_classification.py:198: DataConversionWarning: A column-vector y was passed when a 1d array was expected. Please change the shape of y to (n_samples,), for example using ravel().\n",
            "  return self._fit(X, y)\n"
          ]
        },
        {
          "name": "stdout",
          "output_type": "stream",
          "text": [
            "[CV 3/5] END ....................n_neighbors=16;, score=0.705 total time=   0.6s\n"
          ]
        },
        {
          "name": "stderr",
          "output_type": "stream",
          "text": [
            "/usr/local/lib/python3.7/dist-packages/sklearn/neighbors/_classification.py:198: DataConversionWarning: A column-vector y was passed when a 1d array was expected. Please change the shape of y to (n_samples,), for example using ravel().\n",
            "  return self._fit(X, y)\n"
          ]
        },
        {
          "name": "stdout",
          "output_type": "stream",
          "text": [
            "[CV 4/5] END ....................n_neighbors=16;, score=0.706 total time=   0.6s\n"
          ]
        },
        {
          "name": "stderr",
          "output_type": "stream",
          "text": [
            "/usr/local/lib/python3.7/dist-packages/sklearn/neighbors/_classification.py:198: DataConversionWarning: A column-vector y was passed when a 1d array was expected. Please change the shape of y to (n_samples,), for example using ravel().\n",
            "  return self._fit(X, y)\n"
          ]
        },
        {
          "name": "stdout",
          "output_type": "stream",
          "text": [
            "[CV 5/5] END ....................n_neighbors=16;, score=0.710 total time=   0.6s\n"
          ]
        },
        {
          "name": "stderr",
          "output_type": "stream",
          "text": [
            "/usr/local/lib/python3.7/dist-packages/sklearn/neighbors/_classification.py:198: DataConversionWarning: A column-vector y was passed when a 1d array was expected. Please change the shape of y to (n_samples,), for example using ravel().\n",
            "  return self._fit(X, y)\n"
          ]
        },
        {
          "name": "stdout",
          "output_type": "stream",
          "text": [
            "[CV 1/5] END ....................n_neighbors=17;, score=0.704 total time=   0.6s\n"
          ]
        },
        {
          "name": "stderr",
          "output_type": "stream",
          "text": [
            "/usr/local/lib/python3.7/dist-packages/sklearn/neighbors/_classification.py:198: DataConversionWarning: A column-vector y was passed when a 1d array was expected. Please change the shape of y to (n_samples,), for example using ravel().\n",
            "  return self._fit(X, y)\n"
          ]
        },
        {
          "name": "stdout",
          "output_type": "stream",
          "text": [
            "[CV 2/5] END ....................n_neighbors=17;, score=0.709 total time=   0.6s\n"
          ]
        },
        {
          "name": "stderr",
          "output_type": "stream",
          "text": [
            "/usr/local/lib/python3.7/dist-packages/sklearn/neighbors/_classification.py:198: DataConversionWarning: A column-vector y was passed when a 1d array was expected. Please change the shape of y to (n_samples,), for example using ravel().\n",
            "  return self._fit(X, y)\n"
          ]
        },
        {
          "name": "stdout",
          "output_type": "stream",
          "text": [
            "[CV 3/5] END ....................n_neighbors=17;, score=0.704 total time=   0.6s\n"
          ]
        },
        {
          "name": "stderr",
          "output_type": "stream",
          "text": [
            "/usr/local/lib/python3.7/dist-packages/sklearn/neighbors/_classification.py:198: DataConversionWarning: A column-vector y was passed when a 1d array was expected. Please change the shape of y to (n_samples,), for example using ravel().\n",
            "  return self._fit(X, y)\n"
          ]
        },
        {
          "name": "stdout",
          "output_type": "stream",
          "text": [
            "[CV 4/5] END ....................n_neighbors=17;, score=0.704 total time=   0.6s\n"
          ]
        },
        {
          "name": "stderr",
          "output_type": "stream",
          "text": [
            "/usr/local/lib/python3.7/dist-packages/sklearn/neighbors/_classification.py:198: DataConversionWarning: A column-vector y was passed when a 1d array was expected. Please change the shape of y to (n_samples,), for example using ravel().\n",
            "  return self._fit(X, y)\n"
          ]
        },
        {
          "name": "stdout",
          "output_type": "stream",
          "text": [
            "[CV 5/5] END ....................n_neighbors=17;, score=0.710 total time=   0.6s\n"
          ]
        },
        {
          "name": "stderr",
          "output_type": "stream",
          "text": [
            "/usr/local/lib/python3.7/dist-packages/sklearn/neighbors/_classification.py:198: DataConversionWarning: A column-vector y was passed when a 1d array was expected. Please change the shape of y to (n_samples,), for example using ravel().\n",
            "  return self._fit(X, y)\n"
          ]
        },
        {
          "name": "stdout",
          "output_type": "stream",
          "text": [
            "[CV 1/5] END ....................n_neighbors=18;, score=0.701 total time=   0.6s\n"
          ]
        },
        {
          "name": "stderr",
          "output_type": "stream",
          "text": [
            "/usr/local/lib/python3.7/dist-packages/sklearn/neighbors/_classification.py:198: DataConversionWarning: A column-vector y was passed when a 1d array was expected. Please change the shape of y to (n_samples,), for example using ravel().\n",
            "  return self._fit(X, y)\n"
          ]
        },
        {
          "name": "stdout",
          "output_type": "stream",
          "text": [
            "[CV 2/5] END ....................n_neighbors=18;, score=0.707 total time=   0.6s\n"
          ]
        },
        {
          "name": "stderr",
          "output_type": "stream",
          "text": [
            "/usr/local/lib/python3.7/dist-packages/sklearn/neighbors/_classification.py:198: DataConversionWarning: A column-vector y was passed when a 1d array was expected. Please change the shape of y to (n_samples,), for example using ravel().\n",
            "  return self._fit(X, y)\n"
          ]
        },
        {
          "name": "stdout",
          "output_type": "stream",
          "text": [
            "[CV 3/5] END ....................n_neighbors=18;, score=0.703 total time=   0.6s\n"
          ]
        },
        {
          "name": "stderr",
          "output_type": "stream",
          "text": [
            "/usr/local/lib/python3.7/dist-packages/sklearn/neighbors/_classification.py:198: DataConversionWarning: A column-vector y was passed when a 1d array was expected. Please change the shape of y to (n_samples,), for example using ravel().\n",
            "  return self._fit(X, y)\n"
          ]
        },
        {
          "name": "stdout",
          "output_type": "stream",
          "text": [
            "[CV 4/5] END ....................n_neighbors=18;, score=0.703 total time=   0.6s\n"
          ]
        },
        {
          "name": "stderr",
          "output_type": "stream",
          "text": [
            "/usr/local/lib/python3.7/dist-packages/sklearn/neighbors/_classification.py:198: DataConversionWarning: A column-vector y was passed when a 1d array was expected. Please change the shape of y to (n_samples,), for example using ravel().\n",
            "  return self._fit(X, y)\n"
          ]
        },
        {
          "name": "stdout",
          "output_type": "stream",
          "text": [
            "[CV 5/5] END ....................n_neighbors=18;, score=0.708 total time=   0.6s\n"
          ]
        },
        {
          "name": "stderr",
          "output_type": "stream",
          "text": [
            "/usr/local/lib/python3.7/dist-packages/sklearn/neighbors/_classification.py:198: DataConversionWarning: A column-vector y was passed when a 1d array was expected. Please change the shape of y to (n_samples,), for example using ravel().\n",
            "  return self._fit(X, y)\n"
          ]
        },
        {
          "name": "stdout",
          "output_type": "stream",
          "text": [
            "[CV 1/5] END ....................n_neighbors=19;, score=0.702 total time=   0.6s\n"
          ]
        },
        {
          "name": "stderr",
          "output_type": "stream",
          "text": [
            "/usr/local/lib/python3.7/dist-packages/sklearn/neighbors/_classification.py:198: DataConversionWarning: A column-vector y was passed when a 1d array was expected. Please change the shape of y to (n_samples,), for example using ravel().\n",
            "  return self._fit(X, y)\n"
          ]
        },
        {
          "name": "stdout",
          "output_type": "stream",
          "text": [
            "[CV 2/5] END ....................n_neighbors=19;, score=0.707 total time=   0.6s\n"
          ]
        },
        {
          "name": "stderr",
          "output_type": "stream",
          "text": [
            "/usr/local/lib/python3.7/dist-packages/sklearn/neighbors/_classification.py:198: DataConversionWarning: A column-vector y was passed when a 1d array was expected. Please change the shape of y to (n_samples,), for example using ravel().\n",
            "  return self._fit(X, y)\n"
          ]
        },
        {
          "name": "stdout",
          "output_type": "stream",
          "text": [
            "[CV 3/5] END ....................n_neighbors=19;, score=0.705 total time=   0.6s\n"
          ]
        },
        {
          "name": "stderr",
          "output_type": "stream",
          "text": [
            "/usr/local/lib/python3.7/dist-packages/sklearn/neighbors/_classification.py:198: DataConversionWarning: A column-vector y was passed when a 1d array was expected. Please change the shape of y to (n_samples,), for example using ravel().\n",
            "  return self._fit(X, y)\n"
          ]
        },
        {
          "name": "stdout",
          "output_type": "stream",
          "text": [
            "[CV 4/5] END ....................n_neighbors=19;, score=0.702 total time=   0.6s\n"
          ]
        },
        {
          "name": "stderr",
          "output_type": "stream",
          "text": [
            "/usr/local/lib/python3.7/dist-packages/sklearn/neighbors/_classification.py:198: DataConversionWarning: A column-vector y was passed when a 1d array was expected. Please change the shape of y to (n_samples,), for example using ravel().\n",
            "  return self._fit(X, y)\n"
          ]
        },
        {
          "name": "stdout",
          "output_type": "stream",
          "text": [
            "[CV 5/5] END ....................n_neighbors=19;, score=0.710 total time=   0.6s\n"
          ]
        },
        {
          "name": "stderr",
          "output_type": "stream",
          "text": [
            "/usr/local/lib/python3.7/dist-packages/sklearn/neighbors/_classification.py:198: DataConversionWarning: A column-vector y was passed when a 1d array was expected. Please change the shape of y to (n_samples,), for example using ravel().\n",
            "  return self._fit(X, y)\n"
          ]
        },
        {
          "data": {
            "text/plain": [
              "KNeighborsClassifier(n_neighbors=7)"
            ]
          },
          "execution_count": 23,
          "metadata": {},
          "output_type": "execute_result"
        }
      ],
      "source": [
        "param_grid = {\n",
        "    'n_neighbors': range(5, 20)\n",
        "}\n",
        "kf = KFold(n_splits = 5, shuffle = True, random_state = 42)\n",
        "\n",
        "grid = GridSearchCV(KNeighborsClassifier(), param_grid, verbose=3, cv=kf, scoring='accuracy')\n",
        "grid.fit(X_train, y_train)\n",
        "grid.best_estimator_"
      ]
    },
    {
      "cell_type": "code",
      "execution_count": 24,
      "metadata": {
        "colab": {
          "base_uri": "https://localhost:8080/",
          "height": 353
        },
        "id": "bKiZ-By5ZE3m",
        "outputId": "a2f848bb-995d-4cfa-c211-a6029106538b"
      },
      "outputs": [
        {
          "data": {
            "text/html": [
              "\n",
              "  <div id=\"df-c243d4f2-17da-458f-b4f2-e78f0f5e79fa\">\n",
              "    <div class=\"colab-df-container\">\n",
              "      <div>\n",
              "<style scoped>\n",
              "    .dataframe tbody tr th:only-of-type {\n",
              "        vertical-align: middle;\n",
              "    }\n",
              "\n",
              "    .dataframe tbody tr th {\n",
              "        vertical-align: top;\n",
              "    }\n",
              "\n",
              "    .dataframe thead th {\n",
              "        text-align: right;\n",
              "    }\n",
              "</style>\n",
              "<table border=\"1\" class=\"dataframe\">\n",
              "  <thead>\n",
              "    <tr style=\"text-align: right;\">\n",
              "      <th></th>\n",
              "      <th>mean_fit_time</th>\n",
              "      <th>std_fit_time</th>\n",
              "      <th>mean_score_time</th>\n",
              "      <th>std_score_time</th>\n",
              "      <th>param_n_neighbors</th>\n",
              "      <th>params</th>\n",
              "      <th>split0_test_score</th>\n",
              "      <th>split1_test_score</th>\n",
              "      <th>split2_test_score</th>\n",
              "      <th>split3_test_score</th>\n",
              "      <th>split4_test_score</th>\n",
              "      <th>mean_test_score</th>\n",
              "      <th>std_test_score</th>\n",
              "      <th>rank_test_score</th>\n",
              "    </tr>\n",
              "  </thead>\n",
              "  <tbody>\n",
              "    <tr>\n",
              "      <th>2</th>\n",
              "      <td>0.128496</td>\n",
              "      <td>0.000833</td>\n",
              "      <td>0.502898</td>\n",
              "      <td>0.005298</td>\n",
              "      <td>7</td>\n",
              "      <td>{'n_neighbors': 7}</td>\n",
              "      <td>0.708073</td>\n",
              "      <td>0.712526</td>\n",
              "      <td>0.708577</td>\n",
              "      <td>0.708866</td>\n",
              "      <td>0.712278</td>\n",
              "      <td>0.710064</td>\n",
              "      <td>0.001927</td>\n",
              "      <td>1</td>\n",
              "    </tr>\n",
              "    <tr>\n",
              "      <th>6</th>\n",
              "      <td>0.119706</td>\n",
              "      <td>0.001977</td>\n",
              "      <td>0.488390</td>\n",
              "      <td>0.027978</td>\n",
              "      <td>11</td>\n",
              "      <td>{'n_neighbors': 11}</td>\n",
              "      <td>0.707900</td>\n",
              "      <td>0.712989</td>\n",
              "      <td>0.708577</td>\n",
              "      <td>0.706842</td>\n",
              "      <td>0.713261</td>\n",
              "      <td>0.709914</td>\n",
              "      <td>0.002681</td>\n",
              "      <td>2</td>\n",
              "    </tr>\n",
              "    <tr>\n",
              "      <th>4</th>\n",
              "      <td>0.125506</td>\n",
              "      <td>0.003260</td>\n",
              "      <td>0.494366</td>\n",
              "      <td>0.023949</td>\n",
              "      <td>9</td>\n",
              "      <td>{'n_neighbors': 9}</td>\n",
              "      <td>0.707206</td>\n",
              "      <td>0.712873</td>\n",
              "      <td>0.707767</td>\n",
              "      <td>0.706842</td>\n",
              "      <td>0.713088</td>\n",
              "      <td>0.709555</td>\n",
              "      <td>0.002813</td>\n",
              "      <td>3</td>\n",
              "    </tr>\n",
              "    <tr>\n",
              "      <th>8</th>\n",
              "      <td>0.116590</td>\n",
              "      <td>0.000873</td>\n",
              "      <td>0.493644</td>\n",
              "      <td>0.031398</td>\n",
              "      <td>13</td>\n",
              "      <td>{'n_neighbors': 13}</td>\n",
              "      <td>0.707206</td>\n",
              "      <td>0.712700</td>\n",
              "      <td>0.707420</td>\n",
              "      <td>0.705338</td>\n",
              "      <td>0.713146</td>\n",
              "      <td>0.709162</td>\n",
              "      <td>0.003158</td>\n",
              "      <td>4</td>\n",
              "    </tr>\n",
              "    <tr>\n",
              "      <th>5</th>\n",
              "      <td>0.120723</td>\n",
              "      <td>0.003419</td>\n",
              "      <td>0.478262</td>\n",
              "      <td>0.011382</td>\n",
              "      <td>10</td>\n",
              "      <td>{'n_neighbors': 10}</td>\n",
              "      <td>0.706570</td>\n",
              "      <td>0.711369</td>\n",
              "      <td>0.706263</td>\n",
              "      <td>0.707420</td>\n",
              "      <td>0.711758</td>\n",
              "      <td>0.708676</td>\n",
              "      <td>0.002391</td>\n",
              "      <td>5</td>\n",
              "    </tr>\n",
              "  </tbody>\n",
              "</table>\n",
              "</div>\n",
              "      <button class=\"colab-df-convert\" onclick=\"convertToInteractive('df-c243d4f2-17da-458f-b4f2-e78f0f5e79fa')\"\n",
              "              title=\"Convert this dataframe to an interactive table.\"\n",
              "              style=\"display:none;\">\n",
              "        \n",
              "  <svg xmlns=\"http://www.w3.org/2000/svg\" height=\"24px\"viewBox=\"0 0 24 24\"\n",
              "       width=\"24px\">\n",
              "    <path d=\"M0 0h24v24H0V0z\" fill=\"none\"/>\n",
              "    <path d=\"M18.56 5.44l.94 2.06.94-2.06 2.06-.94-2.06-.94-.94-2.06-.94 2.06-2.06.94zm-11 1L8.5 8.5l.94-2.06 2.06-.94-2.06-.94L8.5 2.5l-.94 2.06-2.06.94zm10 10l.94 2.06.94-2.06 2.06-.94-2.06-.94-.94-2.06-.94 2.06-2.06.94z\"/><path d=\"M17.41 7.96l-1.37-1.37c-.4-.4-.92-.59-1.43-.59-.52 0-1.04.2-1.43.59L10.3 9.45l-7.72 7.72c-.78.78-.78 2.05 0 2.83L4 21.41c.39.39.9.59 1.41.59.51 0 1.02-.2 1.41-.59l7.78-7.78 2.81-2.81c.8-.78.8-2.07 0-2.86zM5.41 20L4 18.59l7.72-7.72 1.47 1.35L5.41 20z\"/>\n",
              "  </svg>\n",
              "      </button>\n",
              "      \n",
              "  <style>\n",
              "    .colab-df-container {\n",
              "      display:flex;\n",
              "      flex-wrap:wrap;\n",
              "      gap: 12px;\n",
              "    }\n",
              "\n",
              "    .colab-df-convert {\n",
              "      background-color: #E8F0FE;\n",
              "      border: none;\n",
              "      border-radius: 50%;\n",
              "      cursor: pointer;\n",
              "      display: none;\n",
              "      fill: #1967D2;\n",
              "      height: 32px;\n",
              "      padding: 0 0 0 0;\n",
              "      width: 32px;\n",
              "    }\n",
              "\n",
              "    .colab-df-convert:hover {\n",
              "      background-color: #E2EBFA;\n",
              "      box-shadow: 0px 1px 2px rgba(60, 64, 67, 0.3), 0px 1px 3px 1px rgba(60, 64, 67, 0.15);\n",
              "      fill: #174EA6;\n",
              "    }\n",
              "\n",
              "    [theme=dark] .colab-df-convert {\n",
              "      background-color: #3B4455;\n",
              "      fill: #D2E3FC;\n",
              "    }\n",
              "\n",
              "    [theme=dark] .colab-df-convert:hover {\n",
              "      background-color: #434B5C;\n",
              "      box-shadow: 0px 1px 3px 1px rgba(0, 0, 0, 0.15);\n",
              "      filter: drop-shadow(0px 1px 2px rgba(0, 0, 0, 0.3));\n",
              "      fill: #FFFFFF;\n",
              "    }\n",
              "  </style>\n",
              "\n",
              "      <script>\n",
              "        const buttonEl =\n",
              "          document.querySelector('#df-c243d4f2-17da-458f-b4f2-e78f0f5e79fa button.colab-df-convert');\n",
              "        buttonEl.style.display =\n",
              "          google.colab.kernel.accessAllowed ? 'block' : 'none';\n",
              "\n",
              "        async function convertToInteractive(key) {\n",
              "          const element = document.querySelector('#df-c243d4f2-17da-458f-b4f2-e78f0f5e79fa');\n",
              "          const dataTable =\n",
              "            await google.colab.kernel.invokeFunction('convertToInteractive',\n",
              "                                                     [key], {});\n",
              "          if (!dataTable) return;\n",
              "\n",
              "          const docLinkHtml = 'Like what you see? Visit the ' +\n",
              "            '<a target=\"_blank\" href=https://colab.research.google.com/notebooks/data_table.ipynb>data table notebook</a>'\n",
              "            + ' to learn more about interactive tables.';\n",
              "          element.innerHTML = '';\n",
              "          dataTable['output_type'] = 'display_data';\n",
              "          await google.colab.output.renderOutput(dataTable, element);\n",
              "          const docLink = document.createElement('div');\n",
              "          docLink.innerHTML = docLinkHtml;\n",
              "          element.appendChild(docLink);\n",
              "        }\n",
              "      </script>\n",
              "    </div>\n",
              "  </div>\n",
              "  "
            ],
            "text/plain": [
              "   mean_fit_time  std_fit_time  mean_score_time  std_score_time  \\\n",
              "2       0.128496      0.000833         0.502898        0.005298   \n",
              "6       0.119706      0.001977         0.488390        0.027978   \n",
              "4       0.125506      0.003260         0.494366        0.023949   \n",
              "8       0.116590      0.000873         0.493644        0.031398   \n",
              "5       0.120723      0.003419         0.478262        0.011382   \n",
              "\n",
              "  param_n_neighbors               params  split0_test_score  \\\n",
              "2                 7   {'n_neighbors': 7}           0.708073   \n",
              "6                11  {'n_neighbors': 11}           0.707900   \n",
              "4                 9   {'n_neighbors': 9}           0.707206   \n",
              "8                13  {'n_neighbors': 13}           0.707206   \n",
              "5                10  {'n_neighbors': 10}           0.706570   \n",
              "\n",
              "   split1_test_score  split2_test_score  split3_test_score  split4_test_score  \\\n",
              "2           0.712526           0.708577           0.708866           0.712278   \n",
              "6           0.712989           0.708577           0.706842           0.713261   \n",
              "4           0.712873           0.707767           0.706842           0.713088   \n",
              "8           0.712700           0.707420           0.705338           0.713146   \n",
              "5           0.711369           0.706263           0.707420           0.711758   \n",
              "\n",
              "   mean_test_score  std_test_score  rank_test_score  \n",
              "2         0.710064        0.001927                1  \n",
              "6         0.709914        0.002681                2  \n",
              "4         0.709555        0.002813                3  \n",
              "8         0.709162        0.003158                4  \n",
              "5         0.708676        0.002391                5  "
            ]
          },
          "execution_count": 24,
          "metadata": {},
          "output_type": "execute_result"
        }
      ],
      "source": [
        "pd.DataFrame(grid.cv_results_).sort_values(by='rank_test_score').head()"
      ]
    },
    {
      "cell_type": "code",
      "execution_count": 25,
      "metadata": {
        "colab": {
          "base_uri": "https://localhost:8080/"
        },
        "id": "AyNb7HK0Y89o",
        "outputId": "61012283-a889-433e-f949-8f7b1fb626db"
      },
      "outputs": [
        {
          "data": {
            "text/plain": [
              "0.7141469169645026"
            ]
          },
          "execution_count": 25,
          "metadata": {},
          "output_type": "execute_result"
        }
      ],
      "source": [
        "grid.score(X_test, y_test)"
      ]
    },
    {
      "cell_type": "code",
      "execution_count": 26,
      "metadata": {
        "colab": {
          "base_uri": "https://localhost:8080/"
        },
        "id": "b67G9em4ZGi5",
        "outputId": "458eddaf-adcb-44da-bf92-6502490cd656"
      },
      "outputs": [
        {
          "data": {
            "text/plain": [
              "DecisionTreeClassifier(max_depth=7, min_samples_split=9)"
            ]
          },
          "execution_count": 26,
          "metadata": {},
          "output_type": "execute_result"
        }
      ],
      "source": [
        "param_grid_1 = {\n",
        "    'criterion': ['gini', 'entropy'],\n",
        "    'max_depth': range(5, 15),\n",
        "    'min_samples_split': range(2, 10)\n",
        "    }\n",
        "kf = KFold(n_splits = 5, shuffle = True, random_state = 42)\n",
        "\n",
        "grid_1 = GridSearchCV(DecisionTreeClassifier(), param_grid_1, cv=kf, scoring='accuracy')\n",
        "grid_1.fit(X_train, y_train)\n",
        "grid_1.best_estimator_"
      ]
    },
    {
      "cell_type": "code",
      "execution_count": 27,
      "metadata": {
        "colab": {
          "base_uri": "https://localhost:8080/",
          "height": 608
        },
        "id": "-_SdE02gZMFG",
        "outputId": "d901d33f-c2a8-499b-8b1c-58c3252858a8"
      },
      "outputs": [
        {
          "data": {
            "text/html": [
              "\n",
              "  <div id=\"df-29b36799-5411-458f-bf6f-ddd54bc9237c\">\n",
              "    <div class=\"colab-df-container\">\n",
              "      <div>\n",
              "<style scoped>\n",
              "    .dataframe tbody tr th:only-of-type {\n",
              "        vertical-align: middle;\n",
              "    }\n",
              "\n",
              "    .dataframe tbody tr th {\n",
              "        vertical-align: top;\n",
              "    }\n",
              "\n",
              "    .dataframe thead th {\n",
              "        text-align: right;\n",
              "    }\n",
              "</style>\n",
              "<table border=\"1\" class=\"dataframe\">\n",
              "  <thead>\n",
              "    <tr style=\"text-align: right;\">\n",
              "      <th></th>\n",
              "      <th>mean_fit_time</th>\n",
              "      <th>std_fit_time</th>\n",
              "      <th>mean_score_time</th>\n",
              "      <th>std_score_time</th>\n",
              "      <th>param_criterion</th>\n",
              "      <th>param_max_depth</th>\n",
              "      <th>param_min_samples_split</th>\n",
              "      <th>params</th>\n",
              "      <th>split0_test_score</th>\n",
              "      <th>split1_test_score</th>\n",
              "      <th>split2_test_score</th>\n",
              "      <th>split3_test_score</th>\n",
              "      <th>split4_test_score</th>\n",
              "      <th>mean_test_score</th>\n",
              "      <th>std_test_score</th>\n",
              "      <th>rank_test_score</th>\n",
              "    </tr>\n",
              "  </thead>\n",
              "  <tbody>\n",
              "    <tr>\n",
              "      <th>23</th>\n",
              "      <td>0.239990</td>\n",
              "      <td>0.005910</td>\n",
              "      <td>0.020596</td>\n",
              "      <td>0.000237</td>\n",
              "      <td>gini</td>\n",
              "      <td>7</td>\n",
              "      <td>9</td>\n",
              "      <td>{'criterion': 'gini', 'max_depth': 7, 'min_sam...</td>\n",
              "      <td>0.752892</td>\n",
              "      <td>0.756072</td>\n",
              "      <td>0.762188</td>\n",
              "      <td>0.758718</td>\n",
              "      <td>0.762131</td>\n",
              "      <td>0.758400</td>\n",
              "      <td>0.003581</td>\n",
              "      <td>1</td>\n",
              "    </tr>\n",
              "    <tr>\n",
              "      <th>19</th>\n",
              "      <td>0.235256</td>\n",
              "      <td>0.001813</td>\n",
              "      <td>0.020244</td>\n",
              "      <td>0.000236</td>\n",
              "      <td>gini</td>\n",
              "      <td>7</td>\n",
              "      <td>5</td>\n",
              "      <td>{'criterion': 'gini', 'max_depth': 7, 'min_sam...</td>\n",
              "      <td>0.752892</td>\n",
              "      <td>0.756072</td>\n",
              "      <td>0.762188</td>\n",
              "      <td>0.758718</td>\n",
              "      <td>0.762073</td>\n",
              "      <td>0.758389</td>\n",
              "      <td>0.003569</td>\n",
              "      <td>2</td>\n",
              "    </tr>\n",
              "    <tr>\n",
              "      <th>18</th>\n",
              "      <td>0.235354</td>\n",
              "      <td>0.007006</td>\n",
              "      <td>0.020254</td>\n",
              "      <td>0.000473</td>\n",
              "      <td>gini</td>\n",
              "      <td>7</td>\n",
              "      <td>4</td>\n",
              "      <td>{'criterion': 'gini', 'max_depth': 7, 'min_sam...</td>\n",
              "      <td>0.752892</td>\n",
              "      <td>0.756072</td>\n",
              "      <td>0.762188</td>\n",
              "      <td>0.758718</td>\n",
              "      <td>0.762073</td>\n",
              "      <td>0.758389</td>\n",
              "      <td>0.003569</td>\n",
              "      <td>2</td>\n",
              "    </tr>\n",
              "    <tr>\n",
              "      <th>21</th>\n",
              "      <td>0.230191</td>\n",
              "      <td>0.005943</td>\n",
              "      <td>0.019860</td>\n",
              "      <td>0.000742</td>\n",
              "      <td>gini</td>\n",
              "      <td>7</td>\n",
              "      <td>7</td>\n",
              "      <td>{'criterion': 'gini', 'max_depth': 7, 'min_sam...</td>\n",
              "      <td>0.752892</td>\n",
              "      <td>0.756072</td>\n",
              "      <td>0.762188</td>\n",
              "      <td>0.758661</td>\n",
              "      <td>0.762073</td>\n",
              "      <td>0.758377</td>\n",
              "      <td>0.003568</td>\n",
              "      <td>4</td>\n",
              "    </tr>\n",
              "    <tr>\n",
              "      <th>20</th>\n",
              "      <td>0.234650</td>\n",
              "      <td>0.002883</td>\n",
              "      <td>0.019873</td>\n",
              "      <td>0.000423</td>\n",
              "      <td>gini</td>\n",
              "      <td>7</td>\n",
              "      <td>6</td>\n",
              "      <td>{'criterion': 'gini', 'max_depth': 7, 'min_sam...</td>\n",
              "      <td>0.752892</td>\n",
              "      <td>0.756072</td>\n",
              "      <td>0.762188</td>\n",
              "      <td>0.758603</td>\n",
              "      <td>0.762131</td>\n",
              "      <td>0.758377</td>\n",
              "      <td>0.003580</td>\n",
              "      <td>4</td>\n",
              "    </tr>\n",
              "  </tbody>\n",
              "</table>\n",
              "</div>\n",
              "      <button class=\"colab-df-convert\" onclick=\"convertToInteractive('df-29b36799-5411-458f-bf6f-ddd54bc9237c')\"\n",
              "              title=\"Convert this dataframe to an interactive table.\"\n",
              "              style=\"display:none;\">\n",
              "        \n",
              "  <svg xmlns=\"http://www.w3.org/2000/svg\" height=\"24px\"viewBox=\"0 0 24 24\"\n",
              "       width=\"24px\">\n",
              "    <path d=\"M0 0h24v24H0V0z\" fill=\"none\"/>\n",
              "    <path d=\"M18.56 5.44l.94 2.06.94-2.06 2.06-.94-2.06-.94-.94-2.06-.94 2.06-2.06.94zm-11 1L8.5 8.5l.94-2.06 2.06-.94-2.06-.94L8.5 2.5l-.94 2.06-2.06.94zm10 10l.94 2.06.94-2.06 2.06-.94-2.06-.94-.94-2.06-.94 2.06-2.06.94z\"/><path d=\"M17.41 7.96l-1.37-1.37c-.4-.4-.92-.59-1.43-.59-.52 0-1.04.2-1.43.59L10.3 9.45l-7.72 7.72c-.78.78-.78 2.05 0 2.83L4 21.41c.39.39.9.59 1.41.59.51 0 1.02-.2 1.41-.59l7.78-7.78 2.81-2.81c.8-.78.8-2.07 0-2.86zM5.41 20L4 18.59l7.72-7.72 1.47 1.35L5.41 20z\"/>\n",
              "  </svg>\n",
              "      </button>\n",
              "      \n",
              "  <style>\n",
              "    .colab-df-container {\n",
              "      display:flex;\n",
              "      flex-wrap:wrap;\n",
              "      gap: 12px;\n",
              "    }\n",
              "\n",
              "    .colab-df-convert {\n",
              "      background-color: #E8F0FE;\n",
              "      border: none;\n",
              "      border-radius: 50%;\n",
              "      cursor: pointer;\n",
              "      display: none;\n",
              "      fill: #1967D2;\n",
              "      height: 32px;\n",
              "      padding: 0 0 0 0;\n",
              "      width: 32px;\n",
              "    }\n",
              "\n",
              "    .colab-df-convert:hover {\n",
              "      background-color: #E2EBFA;\n",
              "      box-shadow: 0px 1px 2px rgba(60, 64, 67, 0.3), 0px 1px 3px 1px rgba(60, 64, 67, 0.15);\n",
              "      fill: #174EA6;\n",
              "    }\n",
              "\n",
              "    [theme=dark] .colab-df-convert {\n",
              "      background-color: #3B4455;\n",
              "      fill: #D2E3FC;\n",
              "    }\n",
              "\n",
              "    [theme=dark] .colab-df-convert:hover {\n",
              "      background-color: #434B5C;\n",
              "      box-shadow: 0px 1px 3px 1px rgba(0, 0, 0, 0.15);\n",
              "      filter: drop-shadow(0px 1px 2px rgba(0, 0, 0, 0.3));\n",
              "      fill: #FFFFFF;\n",
              "    }\n",
              "  </style>\n",
              "\n",
              "      <script>\n",
              "        const buttonEl =\n",
              "          document.querySelector('#df-29b36799-5411-458f-bf6f-ddd54bc9237c button.colab-df-convert');\n",
              "        buttonEl.style.display =\n",
              "          google.colab.kernel.accessAllowed ? 'block' : 'none';\n",
              "\n",
              "        async function convertToInteractive(key) {\n",
              "          const element = document.querySelector('#df-29b36799-5411-458f-bf6f-ddd54bc9237c');\n",
              "          const dataTable =\n",
              "            await google.colab.kernel.invokeFunction('convertToInteractive',\n",
              "                                                     [key], {});\n",
              "          if (!dataTable) return;\n",
              "\n",
              "          const docLinkHtml = 'Like what you see? Visit the ' +\n",
              "            '<a target=\"_blank\" href=https://colab.research.google.com/notebooks/data_table.ipynb>data table notebook</a>'\n",
              "            + ' to learn more about interactive tables.';\n",
              "          element.innerHTML = '';\n",
              "          dataTable['output_type'] = 'display_data';\n",
              "          await google.colab.output.renderOutput(dataTable, element);\n",
              "          const docLink = document.createElement('div');\n",
              "          docLink.innerHTML = docLinkHtml;\n",
              "          element.appendChild(docLink);\n",
              "        }\n",
              "      </script>\n",
              "    </div>\n",
              "  </div>\n",
              "  "
            ],
            "text/plain": [
              "    mean_fit_time  std_fit_time  mean_score_time  std_score_time  \\\n",
              "23       0.239990      0.005910         0.020596        0.000237   \n",
              "19       0.235256      0.001813         0.020244        0.000236   \n",
              "18       0.235354      0.007006         0.020254        0.000473   \n",
              "21       0.230191      0.005943         0.019860        0.000742   \n",
              "20       0.234650      0.002883         0.019873        0.000423   \n",
              "\n",
              "   param_criterion param_max_depth param_min_samples_split  \\\n",
              "23            gini               7                       9   \n",
              "19            gini               7                       5   \n",
              "18            gini               7                       4   \n",
              "21            gini               7                       7   \n",
              "20            gini               7                       6   \n",
              "\n",
              "                                               params  split0_test_score  \\\n",
              "23  {'criterion': 'gini', 'max_depth': 7, 'min_sam...           0.752892   \n",
              "19  {'criterion': 'gini', 'max_depth': 7, 'min_sam...           0.752892   \n",
              "18  {'criterion': 'gini', 'max_depth': 7, 'min_sam...           0.752892   \n",
              "21  {'criterion': 'gini', 'max_depth': 7, 'min_sam...           0.752892   \n",
              "20  {'criterion': 'gini', 'max_depth': 7, 'min_sam...           0.752892   \n",
              "\n",
              "    split1_test_score  split2_test_score  split3_test_score  \\\n",
              "23           0.756072           0.762188           0.758718   \n",
              "19           0.756072           0.762188           0.758718   \n",
              "18           0.756072           0.762188           0.758718   \n",
              "21           0.756072           0.762188           0.758661   \n",
              "20           0.756072           0.762188           0.758603   \n",
              "\n",
              "    split4_test_score  mean_test_score  std_test_score  rank_test_score  \n",
              "23           0.762131         0.758400        0.003581                1  \n",
              "19           0.762073         0.758389        0.003569                2  \n",
              "18           0.762073         0.758389        0.003569                2  \n",
              "21           0.762073         0.758377        0.003568                4  \n",
              "20           0.762131         0.758377        0.003580                4  "
            ]
          },
          "execution_count": 27,
          "metadata": {},
          "output_type": "execute_result"
        }
      ],
      "source": [
        "pd.DataFrame(grid_1.cv_results_).sort_values(by='rank_test_score').head()"
      ]
    },
    {
      "cell_type": "code",
      "execution_count": 28,
      "metadata": {
        "colab": {
          "base_uri": "https://localhost:8080/"
        },
        "id": "D_BMi-1RZPGj",
        "outputId": "fc154524-aad1-4cc1-9aec-4f1477cdab6a"
      },
      "outputs": [
        {
          "data": {
            "text/plain": [
              "0.7607134182310281"
            ]
          },
          "execution_count": 28,
          "metadata": {},
          "output_type": "execute_result"
        }
      ],
      "source": [
        "grid_1.score(X_test, y_test)"
      ]
    },
    {
      "cell_type": "markdown",
      "metadata": {
        "id": "CHEveqbsKW2O"
      },
      "source": [
        "## TensorFlow"
      ]
    },
    {
      "cell_type": "code",
      "execution_count": 29,
      "metadata": {
        "colab": {
          "base_uri": "https://localhost:8080/"
        },
        "id": "BsQIdAGsKaKy",
        "outputId": "dfe306c8-51b5-4e83-c6de-4f62992de39d"
      },
      "outputs": [
        {
          "data": {
            "text/plain": [
              "<tf.Tensor: shape=(86457, 3), dtype=float64, numpy=\n",
              "array([[ 4.25400000e+00,  6.20000000e-01,  1.73141031e+00],\n",
              "       [ 4.48000000e+00,  7.10000000e-01,  1.40604752e+00],\n",
              "       [ 4.23500000e+00,  5.81000000e-01,  1.76197605e+00],\n",
              "       ...,\n",
              "       [-7.68000000e+00,  4.76758236e-01,  1.02801630e+05],\n",
              "       [ 4.17300000e+00,  4.74000000e-01,  1.86552039e+00],\n",
              "       [ 2.83400000e+00,  6.52000000e-01,  6.40324324e+00]])>"
            ]
          },
          "execution_count": 29,
          "metadata": {},
          "output_type": "execute_result"
        }
      ],
      "source": [
        "tf.convert_to_tensor(X_train)"
      ]
    },
    {
      "cell_type": "code",
      "execution_count": 30,
      "metadata": {
        "id": "0gmq8zFSK_2F"
      },
      "outputs": [],
      "source": [
        "normalizer = tf.keras.layers.Normalization(axis=-1)\n",
        "normalizer.adapt(X_train)"
      ]
    },
    {
      "cell_type": "code",
      "execution_count": 31,
      "metadata": {
        "colab": {
          "base_uri": "https://localhost:8080/"
        },
        "id": "uoeO6GXJLR20",
        "outputId": "26d3fddf-fec9-4eb3-9315-0aeac4bdf041"
      },
      "outputs": [
        {
          "data": {
            "text/plain": [
              "<tf.Tensor: shape=(86457, 3), dtype=float32, numpy=\n",
              "array([[ 0.8182966 , -0.16924995, -0.11528912],\n",
              "       [ 0.87285984,  0.01626425, -0.11528923],\n",
              "       [ 0.81370944, -0.24963953, -0.11528911],\n",
              "       ...,\n",
              "       [-2.062933  , -0.46450981, -0.08122192],\n",
              "       [ 0.7987407 , -0.47019526, -0.11528907],\n",
              "       [ 0.47546554, -0.10328931, -0.11528756]], dtype=float32)>"
            ]
          },
          "execution_count": 31,
          "metadata": {},
          "output_type": "execute_result"
        }
      ],
      "source": [
        "normalizer(X_train)"
      ]
    },
    {
      "cell_type": "code",
      "execution_count": 32,
      "metadata": {
        "id": "z2n6HOcfM0Ap"
      },
      "outputs": [],
      "source": [
        "from sklearn.preprocessing import LabelEncoder"
      ]
    },
    {
      "cell_type": "code",
      "execution_count": 37,
      "metadata": {
        "colab": {
          "base_uri": "https://localhost:8080/"
        },
        "id": "d9xguef8N7x2",
        "outputId": "b35b5182-2f05-47f3-974a-9c7f372e8687"
      },
      "outputs": [
        {
          "name": "stderr",
          "output_type": "stream",
          "text": [
            "/usr/local/lib/python3.7/dist-packages/sklearn/preprocessing/_label.py:115: DataConversionWarning: A column-vector y was passed when a 1d array was expected. Please change the shape of y to (n_samples, ), for example using ravel().\n",
            "  y = column_or_1d(y, warn=True)\n"
          ]
        }
      ],
      "source": [
        "encoder = LabelEncoder()\n",
        "y_train = encoder.fit_transform(y_train)\n",
        "y_test = encoder.fit_transform(y_test)"
      ]
    },
    {
      "cell_type": "code",
      "execution_count": 34,
      "metadata": {
        "id": "TzTxx_qNLc08"
      },
      "outputs": [],
      "source": [
        "def get_basic_model():\n",
        "  model = tf.keras.Sequential([\n",
        "    normalizer,\n",
        "    tf.keras.layers.Dense(512, activation='relu'),\n",
        "    tf.keras.layers.Dense(256, activation='relu'),\n",
        "    tf.keras.layers.Dense(128, activation='relu'),\n",
        "    tf.keras.layers.Dense(64, activation='relu'),\n",
        "    tf.keras.layers.Dense(32, activation='relu'),\n",
        "    tf.keras.layers.Dense(7, activation='softmax')\n",
        "  ])\n",
        "\n",
        "  model.compile(optimizer='adam',\n",
        "                loss=tf.keras.losses.SparseCategoricalCrossentropy(from_logits=True),\n",
        "                metrics=['accuracy'])\n",
        "  return model"
      ]
    },
    {
      "cell_type": "code",
      "execution_count": 35,
      "metadata": {
        "colab": {
          "base_uri": "https://localhost:8080/"
        },
        "id": "WXCyTpJpLfeb",
        "outputId": "b48b3a23-f4fb-4e5e-e2f6-1be37e27b3c0"
      },
      "outputs": [
        {
          "name": "stdout",
          "output_type": "stream",
          "text": [
            "Epoch 1/15\n"
          ]
        },
        {
          "name": "stderr",
          "output_type": "stream",
          "text": [
            "/usr/local/lib/python3.7/dist-packages/tensorflow/python/util/dispatch.py:1082: UserWarning: \"`sparse_categorical_crossentropy` received `from_logits=True`, but the `output` argument was produced by a sigmoid or softmax activation and thus does not represent logits. Was this intended?\"\n",
            "  return dispatch_target(*args, **kwargs)\n"
          ]
        },
        {
          "name": "stdout",
          "output_type": "stream",
          "text": [
            "865/865 [==============================] - 3s 3ms/step - loss: 0.6706 - accuracy: 0.7343\n",
            "Epoch 2/15\n",
            "865/865 [==============================] - 3s 3ms/step - loss: 0.6262 - accuracy: 0.7489\n",
            "Epoch 3/15\n",
            "865/865 [==============================] - 3s 4ms/step - loss: 0.6179 - accuracy: 0.7504\n",
            "Epoch 4/15\n",
            "865/865 [==============================] - 3s 3ms/step - loss: 0.6143 - accuracy: 0.7508\n",
            "Epoch 5/15\n",
            "865/865 [==============================] - 3s 3ms/step - loss: 0.6110 - accuracy: 0.7535\n",
            "Epoch 6/15\n",
            "865/865 [==============================] - 3s 3ms/step - loss: 0.6108 - accuracy: 0.7518\n",
            "Epoch 7/15\n",
            "865/865 [==============================] - 3s 3ms/step - loss: 0.6091 - accuracy: 0.7546\n",
            "Epoch 8/15\n",
            "865/865 [==============================] - 3s 4ms/step - loss: 0.6076 - accuracy: 0.7537\n",
            "Epoch 9/15\n",
            "865/865 [==============================] - 3s 4ms/step - loss: 0.6067 - accuracy: 0.7541\n",
            "Epoch 10/15\n",
            "865/865 [==============================] - 3s 4ms/step - loss: 0.6047 - accuracy: 0.7545\n",
            "Epoch 11/15\n",
            "865/865 [==============================] - 3s 4ms/step - loss: 0.6038 - accuracy: 0.7562\n",
            "Epoch 12/15\n",
            "865/865 [==============================] - 3s 4ms/step - loss: 0.6042 - accuracy: 0.7563\n",
            "Epoch 13/15\n",
            "865/865 [==============================] - 3s 4ms/step - loss: 0.6026 - accuracy: 0.7572\n",
            "Epoch 14/15\n",
            "865/865 [==============================] - 3s 4ms/step - loss: 0.6017 - accuracy: 0.7575\n",
            "Epoch 15/15\n",
            "865/865 [==============================] - 3s 4ms/step - loss: 0.6025 - accuracy: 0.7560\n"
          ]
        },
        {
          "data": {
            "text/plain": [
              "<keras.callbacks.History at 0x7fe0b7ef7350>"
            ]
          },
          "execution_count": 35,
          "metadata": {},
          "output_type": "execute_result"
        }
      ],
      "source": [
        "model = get_basic_model()\n",
        "model.fit(X_train, y_train, epochs = 15, batch_size = 100)"
      ]
    },
    {
      "cell_type": "code",
      "execution_count": 38,
      "metadata": {
        "colab": {
          "base_uri": "https://localhost:8080/"
        },
        "id": "cNZjoYy_X7y9",
        "outputId": "b24e9a87-ec41-4e8c-b858-23864911344f"
      },
      "outputs": [
        {
          "name": "stderr",
          "output_type": "stream",
          "text": [
            "/usr/local/lib/python3.7/dist-packages/tensorflow/python/util/dispatch.py:1082: UserWarning: \"`sparse_categorical_crossentropy` received `from_logits=True`, but the `output` argument was produced by a sigmoid or softmax activation and thus does not represent logits. Was this intended?\"\n",
            "  return dispatch_target(*args, **kwargs)\n"
          ]
        },
        {
          "name": "stdout",
          "output_type": "stream",
          "text": [
            "901/901 - 2s - loss: 0.5953 - accuracy: 0.7593 - 2s/epoch - 2ms/step\n"
          ]
        },
        {
          "data": {
            "text/plain": [
              "[0.5952807068824768, 0.7592560648918152]"
            ]
          },
          "execution_count": 38,
          "metadata": {},
          "output_type": "execute_result"
        }
      ],
      "source": [
        "model.evaluate(X_test, y_test, verbose = 2)"
      ]
    },
    {
      "cell_type": "markdown",
      "metadata": {
        "id": "srdMM2Uh2vtA"
      },
      "source": [
        "# Results\n",
        "\n",
        "You may have done tons of work on this. Not all of it belongs here. \n",
        "\n",
        "\n",
        "Reports should have a __narrative__. Once you've looked through all your results over the quarter, decide on one main point and 2-4 secondary points you want us to understand. Include the detailed code and analysis results of those points only; you should spend more time/code/plots on your main point than the others.\n",
        "\n",
        "If you went down any blind alleys that you later decided to not pursue, please don't abuse the TAs time by throwing in 81 lines of code and 4 plots related to something you actually abandoned.  Consider deleting things that are not important to your narrative.  If its slightly relevant to the narrative or you just want us to know you tried something, you could keep it in by summarizing the result in this report in a sentence or two, moving the actual analysis to another file in your repo, and providing us a link to that file.\n",
        "\n",
        "### Subsection 1\n",
        "\n",
        "You will likely have different subsections as you go through your report. For instance you might start with an analysis of the dataset/problem and from there you might be able to draw out the kinds of algorithms that are / aren't appropriate to tackle the solution.  Or something else completely if this isn't the way your project works.\n",
        "\n",
        "### Subsection 2\n",
        "\n",
        "Another likely section is if you are doing any feature selection through cross-validation or hand-design/validation of features/transformations of the data\n",
        "\n",
        "### Subsection 3\n",
        "\n",
        "Probably you need to describe the base model and demonstrate its performance.  Maybe you include a learning curve to show whether you have enough data to do train/validate/test split or have to go to k-folds or LOOCV or ???\n",
        "\n",
        "### Subsection 4\n",
        "\n",
        "Perhaps some exploration of the model selection (hyper-parameters) or algorithm selection task. Validation curves, plots showing the variability of perfromance across folds of the cross-validation, etc. If you're doing one, the outcome of the null hypothesis test or parsimony principle check to show how you are selecting the best model.\n",
        "\n",
        "### Subsection 5 \n",
        "\n",
        "Maybe you do model selection again, but using a different kind of metric than before?\n",
        "\n"
      ]
    },
    {
      "cell_type": "markdown",
      "metadata": {
        "id": "pF_TWcuT2vtB"
      },
      "source": [
        "# Discussion\n",
        "\n",
        "### Interpreting the result\n",
        "\n",
        "OK, you've given us quite a bit of tech informaiton above, now its time to tell us what to pay attention to in all that.  Think clearly about your results, decide on one main point and 2-4 secondary points you want us to understand. Highlight HOW your results support those points.  You probably want 2-5 sentences per point.\n",
        "\n",
        "### Limitations\n",
        "\n",
        "Are there any problems with the work?  For instance would more data change the nature of the problem? Would it be good to explore more hyperparams than you had time for?   \n",
        "\n",
        "### Ethics & Privacy\n",
        "Since we are doing all the work related to star and astronomy, our project will not relate to any people or society. We do not need informed consent since we don’t have an object to be consent. All our data are from astronomy institution, and we will not collect any data through collection or survey which means we will not have collection bias. We also don’t have PII exposure issue and don’t need to consider downstream bias mitigation since we are not dealing with data related to human.\n",
        "\n",
        "Data storage:\n",
        "We all get the data source from open source, but all these sources have their own copyright. We will use proper citation to give credit to those institutions who provides these valuable data. We will also follow the guideline with the right to be forgotten. If any institutions delete their data or made their data private during our project, we will need to remove their data. We have several datasets which could be used in this project so we already have a data retention plan.\n",
        "\n",
        "Analysis:\n",
        "We will make sure our data analysis will avoid data bias and our result will be honest representation of the dataset. We will keep our analysis private to protect the privacy of original dataset.\n",
        "\n",
        "Modeling:\n",
        "We will not have proxy discrimination issue since astronomy data will not have any unfairly discriminatory. We will choose best metric to optimizing our defined metrics and we will explain why we made the decision of the model.\n",
        "\n",
        "Deployment:\n",
        " We will not have redress problem since we are not dealing with human participants. We will make our model able to roll back when necessary, we will also test our concept to make sure that our model with no bias or little bias. We will made this project private to avoid unintended use.\n",
        "\n",
        "### Conclusion\n",
        "\n",
        "Reiterate your main point and in just a few sentences tell us how your results support it. Mention how this work would fit in the background/context of other work in this field if you can. Suggest directions for future work if you want to."
      ]
    },
    {
      "cell_type": "markdown",
      "metadata": {
        "id": "ReLyIQfO2vtB"
      },
      "source": [
        "# Footnotes\n",
        "<a name=\"MK\"></a>1.[^](#MK): https://starparty.com/topics/astronomy/stars/the-morgan-keenan-system/<br>\n",
        "<a name=\"stellartemp\"></a>2.[^](#stellartemp): https://www.secretsofuniverse.in/measuring-temperature-of-stars/<br>\n",
        "<a name=\"stellartemp\"></a>3.[^](#infrared): Blackwell, D. E., Petford, A. D., & Shallis, M. J. (1980). Use of the infra-red flux method for determining stellar effective temperatures and angular diameters-The stellar temperature scale. Astronomy and Astrophysics, 82, 249-252.<br>\n",
        "<a name=\"gaia\"></a>4.[^](#gaia): Mucciarelli, A., Bellazzini, M., & Massari, D. (2021). Exploiting the Gaia EDR3 photometry to derive stellar temperatures. Astronomy & Astrophysics, 653, A90.<br>\n"
      ]
    }
  ],
  "metadata": {
    "accelerator": "TPU",
    "colab": {
      "background_execution": "on",
      "collapsed_sections": [],
      "machine_shape": "hm",
      "name": "FinalProject_group003.ipynb",
      "provenance": []
    },
    "kernelspec": {
      "display_name": "Python 3 (ipykernel)",
      "language": "python",
      "name": "python3"
    },
    "language_info": {
      "codemirror_mode": {
        "name": "ipython",
        "version": 3
      },
      "file_extension": ".py",
      "mimetype": "text/x-python",
      "name": "python",
      "nbconvert_exporter": "python",
      "pygments_lexer": "ipython3",
      "version": "3.9.5"
    }
  },
  "nbformat": 4,
  "nbformat_minor": 0
}
